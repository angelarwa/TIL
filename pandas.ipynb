{
  "nbformat": 4,
  "nbformat_minor": 0,
  "metadata": {
    "kernelspec": {
      "display_name": "Python 3",
      "language": "python",
      "name": "python3"
    },
    "language_info": {
      "codemirror_mode": {
        "name": "ipython",
        "version": 3
      },
      "file_extension": ".py",
      "mimetype": "text/x-python",
      "name": "python",
      "nbconvert_exporter": "python",
      "pygments_lexer": "ipython3",
      "version": "3.7.4"
    },
    "colab": {
      "name": "pandas.ipynb",
      "provenance": [],
      "collapsed_sections": [],
      "include_colab_link": true
    }
  },
  "cells": [
    {
      "cell_type": "markdown",
      "metadata": {
        "id": "view-in-github",
        "colab_type": "text"
      },
      "source": [
        "<a href=\"https://colab.research.google.com/github/angelarwa/TIL/blob/master/pandas.ipynb\" target=\"_parent\"><img src=\"https://colab.research.google.com/assets/colab-badge.svg\" alt=\"Open In Colab\"/></a>"
      ]
    },
    {
      "cell_type": "markdown",
      "metadata": {
        "id": "0aPHOnmTAR1m",
        "colab_type": "text"
      },
      "source": [
        "## 12월 17일"
      ]
    },
    {
      "cell_type": "code",
      "metadata": {
        "id": "p6NukaOrAR1o",
        "colab_type": "code",
        "outputId": "eb16e738-c263-4f6a-ee37-4fa123255fc8",
        "colab": {}
      },
      "source": [
        "import pandas as pd\n",
        "#dict 타입으로부터 DataFrame 생성\n",
        "dict_data = {'c0': [1,2,3], 'c1': [4,5,6], 'c2': [7,8,9], 'c3': [10,11,12], 'c4': [13,14,15]}\n",
        "df = pd.DataFrame(dict_data)\n",
        "print(type(df))\n",
        "print(df)\n",
        "print(df.index) #행 인덱스\n",
        "print(df.columns) #열이름 "
      ],
      "execution_count": 0,
      "outputs": [
        {
          "output_type": "stream",
          "text": [
            "<class 'pandas.core.frame.DataFrame'>\n",
            "   c0  c1  c2  c3  c4\n",
            "0   1   4   7  10  13\n",
            "1   2   5   8  11  14\n",
            "2   3   6   9  12  15\n",
            "RangeIndex(start=0, stop=3, step=1)\n",
            "Index(['c0', 'c1', 'c2', 'c3', 'c4'], dtype='object')\n"
          ],
          "name": "stdout"
        }
      ]
    },
    {
      "cell_type": "code",
      "metadata": {
        "id": "Snwc5BsbAR1t",
        "colab_type": "code",
        "outputId": "fddf64d9-770f-48ac-f746-af8db0142e01",
        "colab": {}
      },
      "source": [
        "# 데이터와 행인덱스, 열 이름을 지정해서 DataFrame 생성\n",
        "df2 = pd.DataFrame([[25,'남' , '율도국'],[17, '여', '인당수']], index=['홍길동', '심청'], columns=['나이', '성별', '주소'])\n",
        "print(type(df2))\n",
        "print(df2)\n",
        "print(df2.index)  #행 인덱스\n",
        "print(df2.columns)  #열 이름\n",
        "print(id(df2))"
      ],
      "execution_count": 0,
      "outputs": [
        {
          "output_type": "stream",
          "text": [
            "<class 'pandas.core.frame.DataFrame'>\n",
            "     나이 성별   주소\n",
            "홍길동  25  남  율도국\n",
            "심청   17  여  인당수\n",
            "Index(['홍길동', '심청'], dtype='object')\n",
            "Index(['나이', '성별', '주소'], dtype='object')\n",
            "2880383786120\n"
          ],
          "name": "stdout"
        }
      ]
    },
    {
      "cell_type": "code",
      "metadata": {
        "id": "fBQyCG6gAR1w",
        "colab_type": "code",
        "outputId": "c3c792ea-e44c-407e-e324-c73559973750",
        "colab": {}
      },
      "source": [
        "df2.index =['주인공1', '주인공2']   #행 인덱스 변경 가능\n",
        "df2.columns = ['age', 'gender', 'address']   #열 이름 변경 가능\n",
        "print(df2)\n",
        "print(df2.index)  #행 인덱스\n",
        "print(df2.columns)  #열 이름\n",
        "print(id(df2))"
      ],
      "execution_count": 0,
      "outputs": [
        {
          "output_type": "stream",
          "text": [
            "      age gender address\n",
            "주인공1   25      남     율도국\n",
            "주인공2   17      여     인당수\n",
            "Index(['주인공1', '주인공2'], dtype='object')\n",
            "Index(['age', 'gender', 'address'], dtype='object')\n",
            "2880383786120\n"
          ],
          "name": "stdout"
        }
      ]
    },
    {
      "cell_type": "code",
      "metadata": {
        "id": "8JUQKuTjAR1z",
        "colab_type": "code",
        "outputId": "db5dd6c4-5861-416a-a6ed-c3f9a96b772a",
        "colab": {}
      },
      "source": [
        "# IPython.display은 IPython 셸 환경에서 dataframe을 테이블 형식으로 표현합니다.\n",
        "import pandas as pd\n",
        "import numpy as np\n",
        "from IPython.display import display\n",
        "my_2darray = np.array([[1,2,3], [4,5,6]])\n",
        "display(pd.DataFrame(my_2darray))"
      ],
      "execution_count": 0,
      "outputs": [
        {
          "output_type": "display_data",
          "data": {
            "text/html": [
              "<div>\n",
              "<style scoped>\n",
              "    .dataframe tbody tr th:only-of-type {\n",
              "        vertical-align: middle;\n",
              "    }\n",
              "\n",
              "    .dataframe tbody tr th {\n",
              "        vertical-align: top;\n",
              "    }\n",
              "\n",
              "    .dataframe thead th {\n",
              "        text-align: right;\n",
              "    }\n",
              "</style>\n",
              "<table border=\"1\" class=\"dataframe\">\n",
              "  <thead>\n",
              "    <tr style=\"text-align: right;\">\n",
              "      <th></th>\n",
              "      <th>0</th>\n",
              "      <th>1</th>\n",
              "      <th>2</th>\n",
              "    </tr>\n",
              "  </thead>\n",
              "  <tbody>\n",
              "    <tr>\n",
              "      <td>0</td>\n",
              "      <td>1</td>\n",
              "      <td>2</td>\n",
              "      <td>3</td>\n",
              "    </tr>\n",
              "    <tr>\n",
              "      <td>1</td>\n",
              "      <td>4</td>\n",
              "      <td>5</td>\n",
              "      <td>6</td>\n",
              "    </tr>\n",
              "  </tbody>\n",
              "</table>\n",
              "</div>"
            ],
            "text/plain": [
              "   0  1  2\n",
              "0  1  2  3\n",
              "1  4  5  6"
            ]
          },
          "metadata": {
            "tags": []
          }
        }
      ]
    },
    {
      "cell_type": "code",
      "metadata": {
        "id": "oSprgjzAAR12",
        "colab_type": "code",
        "outputId": "ac5c92a9-cc8a-4025-b53e-c360095676c5",
        "colab": {}
      },
      "source": [
        "dict_data = {'c0': [1,2,3], 'c1': [4,5,6], 'c2': [7,8,9], 'c3': [10,11,12], 'c4': [13,14,15]}\n",
        "display( pd.DataFrame(dict_data))"
      ],
      "execution_count": 0,
      "outputs": [
        {
          "output_type": "display_data",
          "data": {
            "text/html": [
              "<div>\n",
              "<style scoped>\n",
              "    .dataframe tbody tr th:only-of-type {\n",
              "        vertical-align: middle;\n",
              "    }\n",
              "\n",
              "    .dataframe tbody tr th {\n",
              "        vertical-align: top;\n",
              "    }\n",
              "\n",
              "    .dataframe thead th {\n",
              "        text-align: right;\n",
              "    }\n",
              "</style>\n",
              "<table border=\"1\" class=\"dataframe\">\n",
              "  <thead>\n",
              "    <tr style=\"text-align: right;\">\n",
              "      <th></th>\n",
              "      <th>c0</th>\n",
              "      <th>c1</th>\n",
              "      <th>c2</th>\n",
              "      <th>c3</th>\n",
              "      <th>c4</th>\n",
              "    </tr>\n",
              "  </thead>\n",
              "  <tbody>\n",
              "    <tr>\n",
              "      <td>0</td>\n",
              "      <td>1</td>\n",
              "      <td>4</td>\n",
              "      <td>7</td>\n",
              "      <td>10</td>\n",
              "      <td>13</td>\n",
              "    </tr>\n",
              "    <tr>\n",
              "      <td>1</td>\n",
              "      <td>2</td>\n",
              "      <td>5</td>\n",
              "      <td>8</td>\n",
              "      <td>11</td>\n",
              "      <td>14</td>\n",
              "    </tr>\n",
              "    <tr>\n",
              "      <td>2</td>\n",
              "      <td>3</td>\n",
              "      <td>6</td>\n",
              "      <td>9</td>\n",
              "      <td>12</td>\n",
              "      <td>15</td>\n",
              "    </tr>\n",
              "  </tbody>\n",
              "</table>\n",
              "</div>"
            ],
            "text/plain": [
              "   c0  c1  c2  c3  c4\n",
              "0   1   4   7  10  13\n",
              "1   2   5   8  11  14\n",
              "2   3   6   9  12  15"
            ]
          },
          "metadata": {
            "tags": []
          }
        }
      ]
    },
    {
      "cell_type": "code",
      "metadata": {
        "id": "yGoYZDuQAR15",
        "colab_type": "code",
        "outputId": "0f338c91-6b38-4ce0-f101-3686d2ee32d6",
        "colab": {}
      },
      "source": [
        "df2 = pd.DataFrame([[25,'남' , '율도국'],[17, '여', '인당수']], index=['홍길동', '심청'], columns=['나이', '성별', '주소'])\n",
        "display(df2)"
      ],
      "execution_count": 0,
      "outputs": [
        {
          "output_type": "display_data",
          "data": {
            "text/html": [
              "<div>\n",
              "<style scoped>\n",
              "    .dataframe tbody tr th:only-of-type {\n",
              "        vertical-align: middle;\n",
              "    }\n",
              "\n",
              "    .dataframe tbody tr th {\n",
              "        vertical-align: top;\n",
              "    }\n",
              "\n",
              "    .dataframe thead th {\n",
              "        text-align: right;\n",
              "    }\n",
              "</style>\n",
              "<table border=\"1\" class=\"dataframe\">\n",
              "  <thead>\n",
              "    <tr style=\"text-align: right;\">\n",
              "      <th></th>\n",
              "      <th>나이</th>\n",
              "      <th>성별</th>\n",
              "      <th>주소</th>\n",
              "    </tr>\n",
              "  </thead>\n",
              "  <tbody>\n",
              "    <tr>\n",
              "      <td>홍길동</td>\n",
              "      <td>25</td>\n",
              "      <td>남</td>\n",
              "      <td>율도국</td>\n",
              "    </tr>\n",
              "    <tr>\n",
              "      <td>심청</td>\n",
              "      <td>17</td>\n",
              "      <td>여</td>\n",
              "      <td>인당수</td>\n",
              "    </tr>\n",
              "  </tbody>\n",
              "</table>\n",
              "</div>"
            ],
            "text/plain": [
              "     나이 성별   주소\n",
              "홍길동  25  남  율도국\n",
              "심청   17  여  인당수"
            ]
          },
          "metadata": {
            "tags": []
          }
        }
      ]
    },
    {
      "cell_type": "code",
      "metadata": {
        "id": "wXz9475NAR18",
        "colab_type": "code",
        "outputId": "eaa14bf6-d743-4eaf-d2d6-00871c4bd2da",
        "colab": {}
      },
      "source": [
        "exam_data= {'수학': [90,80,70],\n",
        "                  '영어': [95,89,90],\n",
        "                  '국어': [100,80,75],\n",
        "                  '과학': [70,70,70]}\n",
        "df = pd.DataFrame(exam_data, index=['영희', '철수', '삼식'])\n",
        "print(df)\n"
      ],
      "execution_count": 0,
      "outputs": [
        {
          "output_type": "stream",
          "text": [
            "    수학  영어   국어  과학\n",
            "영희  90  95  100  70\n",
            "철수  80  89   80  70\n",
            "삼식  70  90   75  70\n"
          ],
          "name": "stdout"
        }
      ]
    },
    {
      "cell_type": "code",
      "metadata": {
        "id": "LS7yByjJAR1-",
        "colab_type": "code",
        "outputId": "26c12d2c-36bd-4cf2-f05f-9f8994150eb1",
        "colab": {}
      },
      "source": [
        "df2 = df[ : ]  # 새로운 DataFrame객체를 복제함\n",
        "#print(id(df))\n",
        "#print(id(df2))\n",
        "result = df2.drop('삼식')  #행 인덱스(label)로 행 삭제한 새로운 데이터프레임 객체 생성 반환\n",
        "print(df2)\n",
        "print(result)\n",
        "\n"
      ],
      "execution_count": 0,
      "outputs": [
        {
          "output_type": "stream",
          "text": [
            "    수학  영어   국어  과학\n",
            "영희  90  95  100  70\n",
            "철수  80  89   80  70\n",
            "삼식  70  90   75  70\n",
            "    수학  영어   국어  과학\n",
            "영희  90  95  100  70\n",
            "철수  80  89   80  70\n"
          ],
          "name": "stdout"
        }
      ]
    },
    {
      "cell_type": "code",
      "metadata": {
        "id": "uWj8yl4iAR2B",
        "colab_type": "code",
        "outputId": "ef95f292-ce66-4a3b-b225-9a8283e8f29b",
        "colab": {}
      },
      "source": [
        "df2.drop('삼식', inplace=True)   #행 삭제한 새로운 데이터프레임 객체 반환대신 자기자신의 행 삭제\n",
        "print(df2)"
      ],
      "execution_count": 0,
      "outputs": [
        {
          "output_type": "stream",
          "text": [
            "    수학  영어   국어  과학\n",
            "영희  90  95  100  70\n",
            "철수  80  89   80  70\n"
          ],
          "name": "stdout"
        },
        {
          "output_type": "stream",
          "text": [
            "C:\\Users\\student\\Anaconda3\\lib\\site-packages\\pandas\\core\\frame.py:4102: SettingWithCopyWarning: \n",
            "A value is trying to be set on a copy of a slice from a DataFrame\n",
            "\n",
            "See the caveats in the documentation: http://pandas.pydata.org/pandas-docs/stable/user_guide/indexing.html#returning-a-view-versus-a-copy\n",
            "  errors=errors,\n"
          ],
          "name": "stderr"
        }
      ]
    },
    {
      "cell_type": "code",
      "metadata": {
        "id": "NZwPxZMuAR2D",
        "colab_type": "code",
        "outputId": "ceed8c7c-de03-48a3-a405-2aa60aa06602",
        "colab": {}
      },
      "source": [
        "df2 = df[ : ]  # 새로운 DataFrame객체를 복제함\n",
        "df2.drop('수학', axis=1,  inplace=True) \n",
        "print(df2)\n"
      ],
      "execution_count": 0,
      "outputs": [
        {
          "output_type": "stream",
          "text": [
            "    영어   국어  과학\n",
            "영희  95  100  70\n",
            "철수  89   80  70\n",
            "삼식  90   75  70\n"
          ],
          "name": "stdout"
        }
      ]
    },
    {
      "cell_type": "code",
      "metadata": {
        "id": "gcCApJiMAR2G",
        "colab_type": "code",
        "outputId": "6cb09134-6c30-40c9-9d41-879a602b7404",
        "colab": {}
      },
      "source": [
        "#행 선택\n",
        "student1 = df.loc['철수']   #label 을 사용해서 행을 선택\n",
        "print(student1)\n",
        "student2 = df.iloc[0]  #index 을 사용해서 행을 선택\n",
        "print(student2)\n"
      ],
      "execution_count": 0,
      "outputs": [
        {
          "output_type": "stream",
          "text": [
            "수학    80\n",
            "영어    89\n",
            "국어    80\n",
            "과학    70\n",
            "Name: 철수, dtype: int64\n",
            "수학     90\n",
            "영어     95\n",
            "국어    100\n",
            "과학     70\n",
            "Name: 영희, dtype: int64\n"
          ],
          "name": "stdout"
        }
      ]
    },
    {
      "cell_type": "code",
      "metadata": {
        "id": "EPRaLz43AR2H",
        "colab_type": "code",
        "outputId": "afe4923b-8f2f-415b-e953-530027e48829",
        "colab": {}
      },
      "source": [
        "students1 = df.loc[['철수', '삼식']]   #label 을 사용해서 2개 이상 행을 선택\n",
        "print(students1)\n",
        "students2 = df.iloc[[0,1]]  #index 을 사용해서 2개 이상 행을 선택\n",
        "print(students2)\n",
        "\n"
      ],
      "execution_count": 0,
      "outputs": [
        {
          "output_type": "stream",
          "text": [
            "    수학  영어  국어  과학\n",
            "철수  80  89  80  70\n",
            "삼식  70  90  75  70\n",
            "    수학  영어   국어  과학\n",
            "영희  90  95  100  70\n",
            "철수  80  89   80  70\n"
          ],
          "name": "stdout"
        }
      ]
    },
    {
      "cell_type": "code",
      "metadata": {
        "id": "LQbF2GiCAR2K",
        "colab_type": "code",
        "outputId": "80965a87-8048-405a-fee0-a5848cbcbe11",
        "colab": {}
      },
      "source": [
        "students3 = df.loc['철수' : '삼식']   #행 인덱스(labe) 범위 지정,  행 선택,  end label을 포함\n",
        "print(students3)\n",
        "students4 = df.iloc[0:2]  #행 인덱스 범위 지정,  행 선택 -  end index는 포함하지 않는다.\n",
        "print(students4)\n"
      ],
      "execution_count": 0,
      "outputs": [
        {
          "output_type": "stream",
          "text": [
            "    수학  영어  국어  과학\n",
            "철수  80  89  80  70\n",
            "삼식  70  90  75  70\n",
            "    수학  영어   국어  과학\n",
            "영희  90  95  100  70\n",
            "철수  80  89   80  70\n"
          ],
          "name": "stdout"
        }
      ]
    },
    {
      "cell_type": "code",
      "metadata": {
        "id": "G4pKihsOAR2M",
        "colab_type": "code",
        "outputId": "abeae630-52d1-433b-9ebc-faa80a7517eb",
        "colab": {}
      },
      "source": [
        "###데이터프레임으로부터 열 선택\n",
        "exam_data= {'이름' : ['영희', '철수', '삼식'],\n",
        "                  '수학': [90,80,70],\n",
        "                  '영어': [95,89,90],\n",
        "                  '국어': [100,80,75],\n",
        "                  '과학': [70,70,70]}\n",
        "df = pd.DataFrame(exam_data)\n",
        "print(df)\n"
      ],
      "execution_count": 0,
      "outputs": [
        {
          "output_type": "stream",
          "text": [
            "   이름  수학  영어   국어  과학\n",
            "0  영희  90  95  100  70\n",
            "1  철수  80  89   80  70\n",
            "2  삼식  70  90   75  70\n"
          ],
          "name": "stdout"
        }
      ]
    },
    {
      "cell_type": "code",
      "metadata": {
        "id": "cEshaLGeAR2O",
        "colab_type": "code",
        "outputId": "f3d37fb8-83a5-4131-fa2a-76511b19302a",
        "colab": {}
      },
      "source": [
        "print(df['수학'])\n",
        "eng =df.영어\n",
        "print(eng)\n",
        "print(type(eng))   #Series 타입"
      ],
      "execution_count": 0,
      "outputs": [
        {
          "output_type": "stream",
          "text": [
            "0    90\n",
            "1    80\n",
            "2    70\n",
            "Name: 수학, dtype: int64\n",
            "0    95\n",
            "1    89\n",
            "2    90\n",
            "Name: 영어, dtype: int64\n",
            "<class 'pandas.core.series.Series'>\n"
          ],
          "name": "stdout"
        }
      ]
    },
    {
      "cell_type": "code",
      "metadata": {
        "id": "3GVcphs5AR2Q",
        "colab_type": "code",
        "outputId": "1ebcacb7-8692-48e7-fdc9-2339a7d799c2",
        "colab": {}
      },
      "source": [
        "subjects = df[['수학', '국어']]\n",
        "print(subjects)\n",
        "print(type(subjects))    #DataFrame타입"
      ],
      "execution_count": 0,
      "outputs": [
        {
          "output_type": "stream",
          "text": [
            "   수학   국어\n",
            "0  90  100\n",
            "1  80   80\n",
            "2  70   75\n",
            "<class 'pandas.core.frame.DataFrame'>\n"
          ],
          "name": "stdout"
        }
      ]
    },
    {
      "cell_type": "code",
      "metadata": {
        "id": "5lClUUxjAR2S",
        "colab_type": "code",
        "outputId": "81330048-b0f8-4b04-c800-075a319a8fd5",
        "colab": {}
      },
      "source": [
        "df.set_index('이름', inplace=True)\n",
        "print(df)"
      ],
      "execution_count": 0,
      "outputs": [
        {
          "output_type": "stream",
          "text": [
            "    수학  영어   국어  과학\n",
            "이름                 \n",
            "영희  90  95  100  70\n",
            "철수  80  89   80  70\n",
            "삼식  70  90   75  70\n"
          ],
          "name": "stdout"
        }
      ]
    },
    {
      "cell_type": "code",
      "metadata": {
        "id": "pJ_pKfp5AR2U",
        "colab_type": "code",
        "outputId": "5e7f3a2a-9a00-4bd0-f534-853b0b1ca8d8",
        "colab": {}
      },
      "source": [
        "#철수의 수학, 과학 점수 선택 출력\n",
        "a=df.loc['철수',['수학','과학']]\n",
        "print(a)\n",
        "b=df.iloc[1,[0,3]] #정수 인덱스 값으로 지정할때는 iloc\n",
        "print(b)"
      ],
      "execution_count": 0,
      "outputs": [
        {
          "output_type": "stream",
          "text": [
            "수학    80\n",
            "과학    70\n",
            "Name: 철수, dtype: int64\n",
            "수학    80\n",
            "과학    70\n",
            "Name: 철수, dtype: int64\n"
          ],
          "name": "stdout"
        }
      ]
    },
    {
      "cell_type": "code",
      "metadata": {
        "id": "3zvMSlt3AR2W",
        "colab_type": "code",
        "outputId": "69df9aeb-70f6-40f2-c2f0-e8c5066de979",
        "colab": {}
      },
      "source": [
        "exam_data= {'이름' : ['영희', '철수', '삼식'],\n",
        "                  '수학': [90,80,70],\n",
        "                  '영어': [95,89,90],\n",
        "                  '국어': [100,80,75],\n",
        "                  '과학': [70,70,70]}\n",
        "df = pd.DataFrame(exam_data)\n",
        "print(df)\n",
        "#컬럼에 데이터 추가\n",
        "df['과학'] = 95\n",
        "print(df)   "
      ],
      "execution_count": 0,
      "outputs": [
        {
          "output_type": "stream",
          "text": [
            "   이름  수학  영어   국어  과학\n",
            "0  영희  90  95  100  70\n",
            "1  철수  80  89   80  70\n",
            "2  삼식  70  90   75  70\n",
            "   이름  수학  영어   국어  과학\n",
            "0  영희  90  95  100  95\n",
            "1  철수  80  89   80  95\n",
            "2  삼식  70  90   75  95\n"
          ],
          "name": "stdout"
        }
      ]
    },
    {
      "cell_type": "code",
      "metadata": {
        "id": "qi3SbugmAR2Y",
        "colab_type": "code",
        "outputId": "d9564467-ef32-4201-b5ac-c7187d97f312",
        "colab": {}
      },
      "source": [
        "df.loc['철수',['수학','과학']]=50,50\n",
        "print(df)"
      ],
      "execution_count": 0,
      "outputs": [
        {
          "output_type": "stream",
          "text": [
            "     이름    수학    영어     국어    과학\n",
            "0    영희  90.0  95.0  100.0  95.0\n",
            "1    철수  80.0  89.0   80.0  95.0\n",
            "2    삼식  70.0  90.0   75.0  95.0\n",
            "철수  NaN  50.0   NaN    NaN  50.0\n"
          ],
          "name": "stdout"
        }
      ]
    },
    {
      "cell_type": "code",
      "metadata": {
        "id": "DrkxVNNKAR2Z",
        "colab_type": "code",
        "outputId": "865e7752-1fe3-46c6-cd69-cb8601ef8bfc",
        "colab": {}
      },
      "source": [
        "exam_data= {'이름' : ['영희', '철수', '삼식'],\n",
        "                  '수학': [90,80,70],\n",
        "                  '영어': [95,89,90],\n",
        "                  '국어': [100,80,75],\n",
        "                  '과학': [70,70,70]}\n",
        "df = pd.DataFrame(exam_data)\n",
        "print(df) \n",
        "#데이터 프레임에서 전치를 수행하려면 메소드 활용\n",
        "df = df.transpose()\n",
        "print(df) "
      ],
      "execution_count": 0,
      "outputs": [
        {
          "output_type": "stream",
          "text": [
            "   이름  수학  영어   국어  과학\n",
            "0  영희  90  95  100  70\n",
            "1  철수  80  89   80  70\n",
            "2  삼식  70  90   75  70\n",
            "      0   1   2\n",
            "이름   영희  철수  삼식\n",
            "수학   90  80  70\n",
            "영어   95  89  90\n",
            "국어  100  80  75\n",
            "과학   70  70  70\n"
          ],
          "name": "stdout"
        }
      ]
    },
    {
      "cell_type": "code",
      "metadata": {
        "id": "je_cmPm2AR2c",
        "colab_type": "code",
        "outputId": "56c9732a-9a4e-439b-f94d-7829df7261bc",
        "colab": {}
      },
      "source": [
        "df = df.T   #데이터프레임 클래스의 속성 활용\n",
        "print(df) "
      ],
      "execution_count": 0,
      "outputs": [
        {
          "output_type": "stream",
          "text": [
            "   이름  수학  영어   국어  과학\n",
            "0  영희  90  95  100  70\n",
            "1  철수  80  89   80  70\n",
            "2  삼식  70  90   75  70\n"
          ],
          "name": "stdout"
        }
      ]
    },
    {
      "cell_type": "code",
      "metadata": {
        "id": "pKCd2ewZAR2e",
        "colab_type": "code",
        "colab": {}
      },
      "source": [
        "#데이터프레임+ 산술연산자+스칼라값\n",
        "import seaborn as sns\n",
        "titanic = sns.load_dataset('titanic')\n",
        "\n",
        "df= titanic[ : , ['age', 'fare']]\n",
        "print(df.head())\n",
        "print(type(df))\n",
        "addition = df+10\n",
        "print(addition .head())\n",
        "print(type(addition))"
      ],
      "execution_count": 0,
      "outputs": []
    },
    {
      "cell_type": "code",
      "metadata": {
        "id": "fJh57bsNAR2g",
        "colab_type": "code",
        "outputId": "9cf96e6e-377b-4482-d185-721658fb1bb6",
        "colab": {}
      },
      "source": [
        "file_path='C:/Users/student/Desktop/datas/datas/read_csv_sample.csv'\n",
        "df=pd.read_csv(file_path)\n",
        "print(df)\n",
        "print(type(df))\n",
        "print(df.dtypes)\n",
        "\n",
        "df2=pd.read_csv(file_path, header=None)\n",
        "print(df2)\n",
        "print(type(df2))\n",
        "\n",
        "df3=pd.read_csv(file_path, index_col=None)\n",
        "print(df3)\n",
        "print(type(df3))\n",
        "\n",
        "df4=pd.read_csv(file_path, index_col='c0')\n",
        "print(df4)\n",
        "print(type(df4))"
      ],
      "execution_count": 0,
      "outputs": [
        {
          "output_type": "stream",
          "text": [
            "   c0  c1  c2  c3\n",
            "0   0   1   4   7\n",
            "1   1   2   5   8\n",
            "2   2   3   6   9\n",
            "<class 'pandas.core.frame.DataFrame'>\n",
            "c0    int64\n",
            "c1    int64\n",
            "c2    int64\n",
            "c3    int64\n",
            "dtype: object\n",
            "    0   1   2   3\n",
            "0  c0  c1  c2  c3\n",
            "1   0   1   4   7\n",
            "2   1   2   5   8\n",
            "3   2   3   6   9\n",
            "<class 'pandas.core.frame.DataFrame'>\n",
            "   c0  c1  c2  c3\n",
            "0   0   1   4   7\n",
            "1   1   2   5   8\n",
            "2   2   3   6   9\n",
            "<class 'pandas.core.frame.DataFrame'>\n",
            "    c1  c2  c3\n",
            "c0            \n",
            "0    1   4   7\n",
            "1    2   5   8\n",
            "2    3   6   9\n",
            "<class 'pandas.core.frame.DataFrame'>\n"
          ],
          "name": "stdout"
        }
      ]
    },
    {
      "cell_type": "code",
      "metadata": {
        "id": "qBs4IRNLAR2i",
        "colab_type": "code",
        "outputId": "e8b51584-37bd-4a57-bd85-db8b3eff0c65",
        "colab": {}
      },
      "source": [
        "file_path='C:/Users/student/Desktop/datas/datas/남북한발전전력량.xlsx'\n",
        "df=pd.read_excel(file_path)\n",
        "print(df)\n",
        "print(type(df))\n",
        "print(df.dtypes)\n",
        "\n",
        "df1=pd.read_excel(file_path, header=None)\n",
        "print(df1)\n",
        "print(type(df1))"
      ],
      "execution_count": 0,
      "outputs": [
        {
          "output_type": "stream",
          "text": [
            "  전력량 (억㎾h) 발전 전력별  1990  1991  1992  1993  1994  1995  1996  1997  ...  2007  \\\n",
            "0        남한     합계  1077  1186  1310  1444  1650  1847  2055  2244  ...  4031   \n",
            "1       NaN     수력    64    51    49    60    41    55    52    54  ...    50   \n",
            "2       NaN     화력   484   573   696   803  1022  1122  1264  1420  ...  2551   \n",
            "3       NaN    원자력   529   563   565   581   587   670   739   771  ...  1429   \n",
            "4       NaN    신재생     -     -     -     -     -     -     -     -  ...     -   \n",
            "5        북한     합계   277   263   247   221   231   230   213   193  ...   236   \n",
            "6       NaN     수력   156   150   142   133   138   142   125   107  ...   133   \n",
            "7       NaN     화력   121   113   105    88    93    88    88    86  ...   103   \n",
            "8       NaN    원자력     -     -     -     -     -     -     -     -  ...     -   \n",
            "\n",
            "   2008  2009  2010  2011  2012  2013  2014  2015  2016  \n",
            "0  4224  4336  4747  4969  5096  5171  5220  5281  5404  \n",
            "1    56    56    65    78    77    84    78    58    66  \n",
            "2  2658  2802  3196  3343  3430  3581  3427  3402  3523  \n",
            "3  1510  1478  1486  1547  1503  1388  1564  1648  1620  \n",
            "4     -     -     -     -    86   118   151   173   195  \n",
            "5   255   235   237   211   215   221   216   190   239  \n",
            "6   141   125   134   132   135   139   130   100   128  \n",
            "7   114   110   103    79    80    82    86    90   111  \n",
            "8     -     -     -     -     -     -     -     -     -  \n",
            "\n",
            "[9 rows x 29 columns]\n",
            "<class 'pandas.core.frame.DataFrame'>\n",
            "전력량 (억㎾h)    object\n",
            "발전 전력별       object\n",
            "1990         object\n",
            "1991         object\n",
            "1992         object\n",
            "1993         object\n",
            "1994         object\n",
            "1995         object\n",
            "1996         object\n",
            "1997         object\n",
            "1998         object\n",
            "1999         object\n",
            "2000         object\n",
            "2001         object\n",
            "2002         object\n",
            "2003         object\n",
            "2004         object\n",
            "2005         object\n",
            "2006         object\n",
            "2007         object\n",
            "2008         object\n",
            "2009         object\n",
            "2010         object\n",
            "2011         object\n",
            "2012         object\n",
            "2013         object\n",
            "2014         object\n",
            "2015         object\n",
            "2016         object\n",
            "dtype: object\n",
            "          0       1     2     3     4     5     6     7     8     9   ...  \\\n",
            "0  전력량 (억㎾h)  발전 전력별  1990  1991  1992  1993  1994  1995  1996  1997  ...   \n",
            "1         남한      합계  1077  1186  1310  1444  1650  1847  2055  2244  ...   \n",
            "2        NaN      수력    64    51    49    60    41    55    52    54  ...   \n",
            "3        NaN      화력   484   573   696   803  1022  1122  1264  1420  ...   \n",
            "4        NaN     원자력   529   563   565   581   587   670   739   771  ...   \n",
            "5        NaN     신재생     -     -     -     -     -     -     -     -  ...   \n",
            "6         북한      합계   277   263   247   221   231   230   213   193  ...   \n",
            "7        NaN      수력   156   150   142   133   138   142   125   107  ...   \n",
            "8        NaN      화력   121   113   105    88    93    88    88    86  ...   \n",
            "9        NaN     원자력     -     -     -     -     -     -     -     -  ...   \n",
            "\n",
            "     19    20    21    22    23    24    25    26    27    28  \n",
            "0  2007  2008  2009  2010  2011  2012  2013  2014  2015  2016  \n",
            "1  4031  4224  4336  4747  4969  5096  5171  5220  5281  5404  \n",
            "2    50    56    56    65    78    77    84    78    58    66  \n",
            "3  2551  2658  2802  3196  3343  3430  3581  3427  3402  3523  \n",
            "4  1429  1510  1478  1486  1547  1503  1388  1564  1648  1620  \n",
            "5     -     -     -     -     -    86   118   151   173   195  \n",
            "6   236   255   235   237   211   215   221   216   190   239  \n",
            "7   133   141   125   134   132   135   139   130   100   128  \n",
            "8   103   114   110   103    79    80    82    86    90   111  \n",
            "9     -     -     -     -     -     -     -     -     -     -  \n",
            "\n",
            "[10 rows x 29 columns]\n",
            "<class 'pandas.core.frame.DataFrame'>\n"
          ],
          "name": "stdout"
        }
      ]
    },
    {
      "cell_type": "code",
      "metadata": {
        "id": "EUhWVYhMAR2k",
        "colab_type": "code",
        "outputId": "74ef4a0f-f4d9-4e67-fdda-7e332c33e5d0",
        "colab": {}
      },
      "source": [
        "#JSON형식의 파일 읽기\n",
        "file_path='C:/Users/student/Desktop/datas/datas/sample.html'\n",
        "df5=pd.read_json(file_path) \n",
        "print(df)\n",
        "print(df.index)\n",
        "print(df.columns)"
      ],
      "execution_count": 0,
      "outputs": [
        {
          "output_type": "error",
          "ename": "ValueError",
          "evalue": "Expected object or value",
          "traceback": [
            "\u001b[1;31m---------------------------------------------------------------------------\u001b[0m",
            "\u001b[1;31mValueError\u001b[0m                                Traceback (most recent call last)",
            "\u001b[1;32m<ipython-input-61-a3a23de5a808>\u001b[0m in \u001b[0;36m<module>\u001b[1;34m\u001b[0m\n\u001b[0;32m      1\u001b[0m \u001b[1;31m#JSON형식의 파일 읽기\u001b[0m\u001b[1;33m\u001b[0m\u001b[1;33m\u001b[0m\u001b[1;33m\u001b[0m\u001b[0m\n\u001b[0;32m      2\u001b[0m \u001b[0mfile_path\u001b[0m\u001b[1;33m=\u001b[0m\u001b[1;34m'C:/Users/student/Desktop/datas/datas/sample.html'\u001b[0m\u001b[1;33m\u001b[0m\u001b[1;33m\u001b[0m\u001b[0m\n\u001b[1;32m----> 3\u001b[1;33m \u001b[0mdf5\u001b[0m\u001b[1;33m=\u001b[0m\u001b[0mpd\u001b[0m\u001b[1;33m.\u001b[0m\u001b[0mread_json\u001b[0m\u001b[1;33m(\u001b[0m\u001b[0mfile_path\u001b[0m\u001b[1;33m)\u001b[0m\u001b[1;33m\u001b[0m\u001b[1;33m\u001b[0m\u001b[0m\n\u001b[0m\u001b[0;32m      4\u001b[0m \u001b[0mprint\u001b[0m\u001b[1;33m(\u001b[0m\u001b[0mdf\u001b[0m\u001b[1;33m)\u001b[0m\u001b[1;33m\u001b[0m\u001b[1;33m\u001b[0m\u001b[0m\n\u001b[0;32m      5\u001b[0m \u001b[0mprint\u001b[0m\u001b[1;33m(\u001b[0m\u001b[0mdf\u001b[0m\u001b[1;33m.\u001b[0m\u001b[0mindex\u001b[0m\u001b[1;33m)\u001b[0m\u001b[1;33m\u001b[0m\u001b[1;33m\u001b[0m\u001b[0m\n",
            "\u001b[1;32m~\\Anaconda3\\lib\\site-packages\\pandas\\io\\json\\_json.py\u001b[0m in \u001b[0;36mread_json\u001b[1;34m(path_or_buf, orient, typ, dtype, convert_axes, convert_dates, keep_default_dates, numpy, precise_float, date_unit, encoding, lines, chunksize, compression)\u001b[0m\n\u001b[0;32m    590\u001b[0m         \u001b[1;32mreturn\u001b[0m \u001b[0mjson_reader\u001b[0m\u001b[1;33m\u001b[0m\u001b[1;33m\u001b[0m\u001b[0m\n\u001b[0;32m    591\u001b[0m \u001b[1;33m\u001b[0m\u001b[0m\n\u001b[1;32m--> 592\u001b[1;33m     \u001b[0mresult\u001b[0m \u001b[1;33m=\u001b[0m \u001b[0mjson_reader\u001b[0m\u001b[1;33m.\u001b[0m\u001b[0mread\u001b[0m\u001b[1;33m(\u001b[0m\u001b[1;33m)\u001b[0m\u001b[1;33m\u001b[0m\u001b[1;33m\u001b[0m\u001b[0m\n\u001b[0m\u001b[0;32m    593\u001b[0m     \u001b[1;32mif\u001b[0m \u001b[0mshould_close\u001b[0m\u001b[1;33m:\u001b[0m\u001b[1;33m\u001b[0m\u001b[1;33m\u001b[0m\u001b[0m\n\u001b[0;32m    594\u001b[0m         \u001b[1;32mtry\u001b[0m\u001b[1;33m:\u001b[0m\u001b[1;33m\u001b[0m\u001b[1;33m\u001b[0m\u001b[0m\n",
            "\u001b[1;32m~\\Anaconda3\\lib\\site-packages\\pandas\\io\\json\\_json.py\u001b[0m in \u001b[0;36mread\u001b[1;34m(self)\u001b[0m\n\u001b[0;32m    715\u001b[0m             \u001b[0mobj\u001b[0m \u001b[1;33m=\u001b[0m \u001b[0mself\u001b[0m\u001b[1;33m.\u001b[0m\u001b[0m_get_object_parser\u001b[0m\u001b[1;33m(\u001b[0m\u001b[0mself\u001b[0m\u001b[1;33m.\u001b[0m\u001b[0m_combine_lines\u001b[0m\u001b[1;33m(\u001b[0m\u001b[0mdata\u001b[0m\u001b[1;33m.\u001b[0m\u001b[0msplit\u001b[0m\u001b[1;33m(\u001b[0m\u001b[1;34m\"\\n\"\u001b[0m\u001b[1;33m)\u001b[0m\u001b[1;33m)\u001b[0m\u001b[1;33m)\u001b[0m\u001b[1;33m\u001b[0m\u001b[1;33m\u001b[0m\u001b[0m\n\u001b[0;32m    716\u001b[0m         \u001b[1;32melse\u001b[0m\u001b[1;33m:\u001b[0m\u001b[1;33m\u001b[0m\u001b[1;33m\u001b[0m\u001b[0m\n\u001b[1;32m--> 717\u001b[1;33m             \u001b[0mobj\u001b[0m \u001b[1;33m=\u001b[0m \u001b[0mself\u001b[0m\u001b[1;33m.\u001b[0m\u001b[0m_get_object_parser\u001b[0m\u001b[1;33m(\u001b[0m\u001b[0mself\u001b[0m\u001b[1;33m.\u001b[0m\u001b[0mdata\u001b[0m\u001b[1;33m)\u001b[0m\u001b[1;33m\u001b[0m\u001b[1;33m\u001b[0m\u001b[0m\n\u001b[0m\u001b[0;32m    718\u001b[0m         \u001b[0mself\u001b[0m\u001b[1;33m.\u001b[0m\u001b[0mclose\u001b[0m\u001b[1;33m(\u001b[0m\u001b[1;33m)\u001b[0m\u001b[1;33m\u001b[0m\u001b[1;33m\u001b[0m\u001b[0m\n\u001b[0;32m    719\u001b[0m         \u001b[1;32mreturn\u001b[0m \u001b[0mobj\u001b[0m\u001b[1;33m\u001b[0m\u001b[1;33m\u001b[0m\u001b[0m\n",
            "\u001b[1;32m~\\Anaconda3\\lib\\site-packages\\pandas\\io\\json\\_json.py\u001b[0m in \u001b[0;36m_get_object_parser\u001b[1;34m(self, json)\u001b[0m\n\u001b[0;32m    737\u001b[0m         \u001b[0mobj\u001b[0m \u001b[1;33m=\u001b[0m \u001b[1;32mNone\u001b[0m\u001b[1;33m\u001b[0m\u001b[1;33m\u001b[0m\u001b[0m\n\u001b[0;32m    738\u001b[0m         \u001b[1;32mif\u001b[0m \u001b[0mtyp\u001b[0m \u001b[1;33m==\u001b[0m \u001b[1;34m\"frame\"\u001b[0m\u001b[1;33m:\u001b[0m\u001b[1;33m\u001b[0m\u001b[1;33m\u001b[0m\u001b[0m\n\u001b[1;32m--> 739\u001b[1;33m             \u001b[0mobj\u001b[0m \u001b[1;33m=\u001b[0m \u001b[0mFrameParser\u001b[0m\u001b[1;33m(\u001b[0m\u001b[0mjson\u001b[0m\u001b[1;33m,\u001b[0m \u001b[1;33m**\u001b[0m\u001b[0mkwargs\u001b[0m\u001b[1;33m)\u001b[0m\u001b[1;33m.\u001b[0m\u001b[0mparse\u001b[0m\u001b[1;33m(\u001b[0m\u001b[1;33m)\u001b[0m\u001b[1;33m\u001b[0m\u001b[1;33m\u001b[0m\u001b[0m\n\u001b[0m\u001b[0;32m    740\u001b[0m \u001b[1;33m\u001b[0m\u001b[0m\n\u001b[0;32m    741\u001b[0m         \u001b[1;32mif\u001b[0m \u001b[0mtyp\u001b[0m \u001b[1;33m==\u001b[0m \u001b[1;34m\"series\"\u001b[0m \u001b[1;32mor\u001b[0m \u001b[0mobj\u001b[0m \u001b[1;32mis\u001b[0m \u001b[1;32mNone\u001b[0m\u001b[1;33m:\u001b[0m\u001b[1;33m\u001b[0m\u001b[1;33m\u001b[0m\u001b[0m\n",
            "\u001b[1;32m~\\Anaconda3\\lib\\site-packages\\pandas\\io\\json\\_json.py\u001b[0m in \u001b[0;36mparse\u001b[1;34m(self)\u001b[0m\n\u001b[0;32m    847\u001b[0m \u001b[1;33m\u001b[0m\u001b[0m\n\u001b[0;32m    848\u001b[0m         \u001b[1;32melse\u001b[0m\u001b[1;33m:\u001b[0m\u001b[1;33m\u001b[0m\u001b[1;33m\u001b[0m\u001b[0m\n\u001b[1;32m--> 849\u001b[1;33m             \u001b[0mself\u001b[0m\u001b[1;33m.\u001b[0m\u001b[0m_parse_no_numpy\u001b[0m\u001b[1;33m(\u001b[0m\u001b[1;33m)\u001b[0m\u001b[1;33m\u001b[0m\u001b[1;33m\u001b[0m\u001b[0m\n\u001b[0m\u001b[0;32m    850\u001b[0m \u001b[1;33m\u001b[0m\u001b[0m\n\u001b[0;32m    851\u001b[0m         \u001b[1;32mif\u001b[0m \u001b[0mself\u001b[0m\u001b[1;33m.\u001b[0m\u001b[0mobj\u001b[0m \u001b[1;32mis\u001b[0m \u001b[1;32mNone\u001b[0m\u001b[1;33m:\u001b[0m\u001b[1;33m\u001b[0m\u001b[1;33m\u001b[0m\u001b[0m\n",
            "\u001b[1;32m~\\Anaconda3\\lib\\site-packages\\pandas\\io\\json\\_json.py\u001b[0m in \u001b[0;36m_parse_no_numpy\u001b[1;34m(self)\u001b[0m\n\u001b[0;32m   1091\u001b[0m         \u001b[1;32mif\u001b[0m \u001b[0morient\u001b[0m \u001b[1;33m==\u001b[0m \u001b[1;34m\"columns\"\u001b[0m\u001b[1;33m:\u001b[0m\u001b[1;33m\u001b[0m\u001b[1;33m\u001b[0m\u001b[0m\n\u001b[0;32m   1092\u001b[0m             self.obj = DataFrame(\n\u001b[1;32m-> 1093\u001b[1;33m                 \u001b[0mloads\u001b[0m\u001b[1;33m(\u001b[0m\u001b[0mjson\u001b[0m\u001b[1;33m,\u001b[0m \u001b[0mprecise_float\u001b[0m\u001b[1;33m=\u001b[0m\u001b[0mself\u001b[0m\u001b[1;33m.\u001b[0m\u001b[0mprecise_float\u001b[0m\u001b[1;33m)\u001b[0m\u001b[1;33m,\u001b[0m \u001b[0mdtype\u001b[0m\u001b[1;33m=\u001b[0m\u001b[1;32mNone\u001b[0m\u001b[1;33m\u001b[0m\u001b[1;33m\u001b[0m\u001b[0m\n\u001b[0m\u001b[0;32m   1094\u001b[0m             )\n\u001b[0;32m   1095\u001b[0m         \u001b[1;32melif\u001b[0m \u001b[0morient\u001b[0m \u001b[1;33m==\u001b[0m \u001b[1;34m\"split\"\u001b[0m\u001b[1;33m:\u001b[0m\u001b[1;33m\u001b[0m\u001b[1;33m\u001b[0m\u001b[0m\n",
            "\u001b[1;31mValueError\u001b[0m: Expected object or value"
          ]
        }
      ]
    },
    {
      "cell_type": "code",
      "metadata": {
        "id": "cRzpAnlAAR2m",
        "colab_type": "code",
        "outputId": "24310edc-844d-4d1e-8a15-dc71ccec9b09",
        "colab": {}
      },
      "source": [
        "#HTML형식의 파일로부터 테이블 읽기\n",
        "file_path='C:/Users/student/Desktop/datas/datas/sample.html'\n",
        "tables=pd.read_html(file_path) \n",
        "print(len(tables))\n",
        " \n",
        "for i in range(len(tables)):\n",
        "   print(\"tables[%s]\" % i)\n",
        "   print(tables[i])\n",
        "\n",
        "df = tables[1]\n",
        "print(df)\n",
        "df.set_index(['name'] , inplace=True)\n",
        "print(df)\n"
      ],
      "execution_count": 0,
      "outputs": [
        {
          "output_type": "stream",
          "text": [
            "2\n",
            "tables[0]\n",
            "   Unnamed: 0  c0  c1  c2  c3\n",
            "0           0   0   1   4   7\n",
            "1           1   1   2   5   8\n",
            "2           2   2   3   6   9\n",
            "tables[1]\n",
            "         name  year        developer  opensource\n",
            "0       NumPy  2006  Travis Oliphant        True\n",
            "1  matplotlib  2003   John D. Hunter        True\n",
            "2      pandas  2008    Wes Mckinneye        True\n",
            "         name  year        developer  opensource\n",
            "0       NumPy  2006  Travis Oliphant        True\n",
            "1  matplotlib  2003   John D. Hunter        True\n",
            "2      pandas  2008    Wes Mckinneye        True\n",
            "            year        developer  opensource\n",
            "name                                         \n",
            "NumPy       2006  Travis Oliphant        True\n",
            "matplotlib  2003   John D. Hunter        True\n",
            "pandas      2008    Wes Mckinneye        True\n"
          ],
          "name": "stdout"
        }
      ]
    },
    {
      "cell_type": "code",
      "metadata": {
        "id": "B2NV4q4oAR2o",
        "colab_type": "code",
        "outputId": "9d41b6fc-ff06-4329-ea3b-da78d83c562f",
        "colab": {}
      },
      "source": [
        "#CSV파일로 저장\n",
        "exam_data= {'이름' : ['영희', '철수', '삼식'],\n",
        "                  '수학': [90,80,70],\n",
        "                  '영어': [95,89,90],\n",
        "                  '국어': [100,80,75],\n",
        "                  '과학': [70,70,70]}\n",
        "df = pd.DataFrame(exam_data)\n",
        "df.set_index('이름', inplace=True)\n",
        "print(df)\n",
        "df.to_csv(\"C:/Users/student/Desktop/datas/output/exam_sample.csv\")\n",
        "\n",
        "#JSON파일로 저장\n",
        "df.to_json(\"C:/Users/student/Desktop/datas/output/exam_sample.json\")\n",
        "\n",
        "\n",
        "#excel파일로 저장\n",
        "df.to_excel(\"C:/Users/student/Desktop/datas/output/exam_sample.xlsx\")"
      ],
      "execution_count": 0,
      "outputs": [
        {
          "output_type": "stream",
          "text": [
            "    수학  영어   국어  과학\n",
            "이름                 \n",
            "영희  90  95  100  70\n",
            "철수  80  89   80  70\n",
            "삼식  70  90   75  70\n"
          ],
          "name": "stdout"
        }
      ]
    },
    {
      "cell_type": "code",
      "metadata": {
        "id": "iTZttuV0AR2p",
        "colab_type": "code",
        "outputId": "f6597fc4-e353-4813-c62b-36e2bee01468",
        "colab": {}
      },
      "source": [
        "dict_data = {'c0': [1,2,3], 'c1': [4,5,6], 'c2': [7,8,9], 'c3': [10,11,12], 'c4': [13,14,15]}\n",
        "df2 = pd.DataFrame(dict_data, index=['r0', 'r1', 'r2'])\n",
        "print(df2)\n",
        "\n",
        "writer=pd.ExcelWriter(\"C:/Users/student/Desktop/datas/output/df_excelwriter.xlsx\")\n",
        "df.to_excel(writer, sheet_name=\"sheet1\")\n",
        "df2.to_excel(writer, sheet_name=\"sheet2\")\n",
        "writer.save()"
      ],
      "execution_count": 0,
      "outputs": [
        {
          "output_type": "stream",
          "text": [
            "    c0  c1  c2  c3  c4\n",
            "r0   1   4   7  10  13\n",
            "r1   2   5   8  11  14\n",
            "r2   3   6   9  12  15\n"
          ],
          "name": "stdout"
        }
      ]
    },
    {
      "cell_type": "code",
      "metadata": {
        "id": "snmNXD-pAR2r",
        "colab_type": "code",
        "outputId": "97c3893a-0e4e-4e20-dd7c-b2165d79d3d9",
        "colab": {}
      },
      "source": [
        "#데이터 프레임에 함수 적용\n",
        "frame = pd.DataFrame(np.random.randn(4, 3), columns=list('bde'),\n",
        "                     index=['Utah', 'Ohio', 'Texas', 'Oregon'])\n",
        "frame\n",
        "np.abs(frame)   #numpy의 유니버셜 함수를 데이터프레임 객체에 적용 가능"
      ],
      "execution_count": 0,
      "outputs": [
        {
          "output_type": "execute_result",
          "data": {
            "text/html": [
              "<div>\n",
              "<style scoped>\n",
              "    .dataframe tbody tr th:only-of-type {\n",
              "        vertical-align: middle;\n",
              "    }\n",
              "\n",
              "    .dataframe tbody tr th {\n",
              "        vertical-align: top;\n",
              "    }\n",
              "\n",
              "    .dataframe thead th {\n",
              "        text-align: right;\n",
              "    }\n",
              "</style>\n",
              "<table border=\"1\" class=\"dataframe\">\n",
              "  <thead>\n",
              "    <tr style=\"text-align: right;\">\n",
              "      <th></th>\n",
              "      <th>b</th>\n",
              "      <th>d</th>\n",
              "      <th>e</th>\n",
              "    </tr>\n",
              "  </thead>\n",
              "  <tbody>\n",
              "    <tr>\n",
              "      <td>Utah</td>\n",
              "      <td>2.138152</td>\n",
              "      <td>0.881433</td>\n",
              "      <td>1.124129</td>\n",
              "    </tr>\n",
              "    <tr>\n",
              "      <td>Ohio</td>\n",
              "      <td>0.345682</td>\n",
              "      <td>0.004419</td>\n",
              "      <td>1.680416</td>\n",
              "    </tr>\n",
              "    <tr>\n",
              "      <td>Texas</td>\n",
              "      <td>0.184103</td>\n",
              "      <td>0.508132</td>\n",
              "      <td>0.621896</td>\n",
              "    </tr>\n",
              "    <tr>\n",
              "      <td>Oregon</td>\n",
              "      <td>0.509252</td>\n",
              "      <td>1.270235</td>\n",
              "      <td>0.658392</td>\n",
              "    </tr>\n",
              "  </tbody>\n",
              "</table>\n",
              "</div>"
            ],
            "text/plain": [
              "               b         d         e\n",
              "Utah    2.138152  0.881433  1.124129\n",
              "Ohio    0.345682  0.004419  1.680416\n",
              "Texas   0.184103  0.508132  0.621896\n",
              "Oregon  0.509252  1.270235  0.658392"
            ]
          },
          "metadata": {
            "tags": []
          },
          "execution_count": 68
        }
      ]
    },
    {
      "cell_type": "code",
      "metadata": {
        "id": "mkXzauXIAR2t",
        "colab_type": "code",
        "colab": {}
      },
      "source": [
        ""
      ],
      "execution_count": 0,
      "outputs": []
    }
  ]
}
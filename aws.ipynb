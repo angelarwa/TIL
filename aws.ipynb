{
  "nbformat": 4,
  "nbformat_minor": 0,
  "metadata": {
    "kernelspec": {
      "display_name": "Python 3",
      "language": "python",
      "name": "python3"
    },
    "language_info": {
      "codemirror_mode": {
        "name": "ipython",
        "version": 3
      },
      "file_extension": ".py",
      "mimetype": "text/x-python",
      "name": "python",
      "nbconvert_exporter": "python",
      "pygments_lexer": "ipython3",
      "version": "3.7.4"
    },
    "varInspector": {
      "cols": {
        "lenName": 16,
        "lenType": 16,
        "lenVar": 40
      },
      "kernels_config": {
        "python": {
          "delete_cmd_postfix": "",
          "delete_cmd_prefix": "del ",
          "library": "var_list.py",
          "varRefreshCmd": "print(var_dic_list())"
        },
        "r": {
          "delete_cmd_postfix": ") ",
          "delete_cmd_prefix": "rm(",
          "library": "var_list.r",
          "varRefreshCmd": "cat(var_dic_list()) "
        }
      },
      "types_to_exclude": [
        "module",
        "function",
        "builtin_function_or_method",
        "instance",
        "_Feature"
      ],
      "window_display": false
    },
    "colab": {
      "name": "aws.ipynb",
      "provenance": []
    }
  },
  "cells": [
    {
      "cell_type": "markdown",
      "metadata": {
        "id": "q2_nlH1jL4s_",
        "colab_type": "text"
      },
      "source": [
        "login as: lab12\n",
        "conda activate tensorflow2_p36\n",
        "git clone https://github.com/pjreddie/darknet.git\n",
        "\n",
        "cd darknet/\n",
        "#cd ~\n",
        "\n",
        "vi \n",
        "\n",
        "ESC+:w a.txt(기록 저장)\n",
        "ESC+:q!(강제종료)\n",
        "ESC+:wq! (저장하고 나가기)\n",
        "\n",
        "cp Makefile Makefile.old\n",
        "vi Makefile\n",
        "GPU=1\n",
        "CUDNN=1\n",
        "OPENCV=1\n",
        "make\n"
      ]
    },
    {
      "cell_type": "markdown",
      "metadata": {
        "id": "axdKH_JIL4tB",
        "colab_type": "text"
      },
      "source": [
        "jupyter notebook --generate-config\n",
        "\n",
        "/home/username/.jupyter :  jupyter_notebook_config.py\n",
        "\n",
        "from notebook.auth import passwd\n",
        "\n",
        "passwd()\n",
        "\n",
        "vim ~/.jupyter/jupyter_notebook_config.py\n",
        "\n",
        "c = get_config()\n",
        "\n",
        "c.NotebookApp.password = u'sha1:8'"
      ]
    },
    {
      "cell_type": "markdown",
      "metadata": {
        "id": "PhkHHb3dL4tC",
        "colab_type": "text"
      },
      "source": [
        "git clone https://github.com/pjreddie/darknet.git\n",
        "\n",
        "vi Makefile\n",
        "\n",
        "CUDA 사용 GPU=1\n",
        "\n",
        "opencv 사용  OPENCV=1\n",
        "\n",
        "make\n",
        "\n",
        "wget https://pjreddie.com/media/files/yolov3.weights\n",
        "\n",
        "./darknet detect cfg/yolov3.cfg yolov3.weights data/dog.jpg"
      ]
    },
    {
      "cell_type": "code",
      "metadata": {
        "id": "XZifhUS5L4tC",
        "colab_type": "code",
        "colab": {}
      },
      "source": [
        ""
      ],
      "execution_count": 0,
      "outputs": []
    }
  ]
}
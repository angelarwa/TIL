{
 "cells": [
  {
   "cell_type": "markdown",
   "metadata": {
    "ExecuteTime": {
     "end_time": "2020-01-22T00:23:41.270435Z",
     "start_time": "2020-01-22T00:23:32.527886Z"
    }
   },
   "source": [
    "# 1월 22일"
   ]
  },
  {
   "cell_type": "code",
   "execution_count": 2,
   "metadata": {},
   "outputs": [
    {
     "name": "stderr",
     "output_type": "stream",
     "text": [
      "Using TensorFlow backend.\n"
     ]
    }
   ],
   "source": [
    "import numpy as np\n",
    "import tensorflow as tf\n",
    "from matplotlib import pyplot as plt\n",
    "from keras.models import Sequential\n",
    "from keras.layers import Dense\n",
    "from keras.layers import Flatten\n",
    "from keras.layers.convolutional import Conv2D\n",
    "from keras.layers.convolutional import MaxPooling2D\n",
    "from keras.models import Sequential\n",
    "from keras.layers import Activation, Dense\n",
    "from keras import optimizers\n",
    "from keras.layers import BatchNormalization\n",
    "from keras.layers import Dropout\n",
    "from keras.utils.np_utils import to_categorical\n",
    "from keras.layers import BatchNormalization, Dropout\n",
    "import cv2"
   ]
  },
  {
   "cell_type": "code",
   "execution_count": 9,
   "metadata": {
    "ExecuteTime": {
     "end_time": "2020-01-22T01:32:59.591288Z",
     "start_time": "2020-01-22T01:32:59.549565Z"
    }
   },
   "outputs": [],
   "source": [
    "X_train = np.zeros((15*3, 24,24)) #print(X_train.shape)=(45, 24, 24)\n",
    "y_train = np.zeros(15*3) #print(y_train.shape)=(45,)\n",
    "#np.zeros:크기가 정해져 있고 모든 값이 0인 배열을 생성\n",
    "#크기를 뜻하는 튜플을 입력하면 다차원 배열도 만들 수 있다.\n",
    "#example) a= np.zeros((2, 3)) #print(a)=array([[0., 0., 0.],[0., 0., 0.]])\n",
    "\n",
    "for i in range(15) :    \n",
    "    img=cv2.imread('hard_handwriting_shape/train/circle/circle{0:03d}.png'.format(i+1),0)        \n",
    "    X_train[i,:,:] = img\n",
    "    y_train[i] = 0\n",
    "    \n",
    "for i in range(15) :    \n",
    "    img=cv2.imread('hard_handwriting_shape/train/rectangle/rectangle{0:03d}.png'.format(i+1),0)        \n",
    "    X_train[15+i,:,:] = img\n",
    "    y_train[15+i] = 1\n",
    "    \n",
    "for i in range(15) :    \n",
    "    img=cv2.imread('hard_handwriting_shape/train/triangle/triangle{0:03d}.png'.format(i+1),0)        \n",
    "    X_train[30+i,:,:] = img\n",
    "    y_train[30+i] = 2     "
   ]
  },
  {
   "cell_type": "code",
   "execution_count": 10,
   "metadata": {
    "ExecuteTime": {
     "end_time": "2020-01-22T01:34:22.474852Z",
     "start_time": "2020-01-22T01:34:22.452394Z"
    }
   },
   "outputs": [],
   "source": [
    "X_test = np.zeros((5*3, 24,24))\n",
    "y_test = np.zeros(5*3)\n",
    "\n",
    "for i in range(5) :    \n",
    "    img = cv2.imread('hard_handwriting_shape/test/circle/circle{0:03d}.png'.format(i+21), 0)        \n",
    "    X_test[i,:,:] = img\n",
    "    y_test[i] = 0\n",
    "    \n",
    "for i in range(5) :    \n",
    "    img = cv2.imread('hard_handwriting_shape/test/rectangle/rectangle{0:03d}.png'.format(i+21), 0)        \n",
    "    X_test[5+i,:,:] = img\n",
    "    y_test[5+i] = 1\n",
    "    \n",
    "for i in range(5) :    \n",
    "    img = cv2.imread('hard_handwriting_shape/test/triangle/triangle{0:03d}.png'.format(i+21), 0)        \n",
    "    X_test[10+i,:,:] = img\n",
    "    y_test[10+i] = 2"
   ]
  },
  {
   "cell_type": "code",
   "execution_count": 11,
   "metadata": {
    "ExecuteTime": {
     "end_time": "2020-01-22T01:34:26.015328Z",
     "start_time": "2020-01-22T01:34:25.932264Z"
    }
   },
   "outputs": [
    {
     "data": {
      "image/png": "[encoded data removed]",
      "text/plain": [
       "<Figure size 432x288 with 1 Axes>"
      ]
     },
     "metadata": {
      "needs_background": "light"
     },
     "output_type": "display_data"
    },
    {
     "name": "stdout",
     "output_type": "stream",
     "text": [
      "Label:  2.0\n"
     ]
    }
   ],
   "source": [
    "plt.imshow(X_test[14], cmap=\"gray\")    # show first number in the dataset\n",
    "plt.show()\n",
    "print('Label: ', y_test[14])"
   ]
  },
  {
   "cell_type": "code",
   "execution_count": 12,
   "metadata": {
    "ExecuteTime": {
     "end_time": "2020-01-22T01:34:29.481316Z",
     "start_time": "2020-01-22T01:34:29.476355Z"
    }
   },
   "outputs": [
    {
     "name": "stdout",
     "output_type": "stream",
     "text": [
      "(45, 24, 24) (15, 24, 24) (45, 3) (15, 3)\n"
     ]
    }
   ],
   "source": [
    "y_train = to_categorical(y_train)\n",
    "y_test = to_categorical(y_test)\n",
    "print(X_train.shape, X_test.shape, y_train.shape, y_test.shape)"
   ]
  },
  {
   "cell_type": "code",
   "execution_count": 13,
   "metadata": {
    "ExecuteTime": {
     "end_time": "2020-01-22T01:34:32.008506Z",
     "start_time": "2020-01-22T01:34:32.004460Z"
    }
   },
   "outputs": [
    {
     "name": "stdout",
     "output_type": "stream",
     "text": [
      "(45, 24, 24, 1)\n",
      "(15, 24, 24, 1)\n",
      "(45, 3)\n",
      "(15, 3)\n"
     ]
    }
   ],
   "source": [
    "# 4차원으로 변경\n",
    "X_train =  X_train.reshape(-1, 24,24,1)\n",
    "X_test =  X_test.reshape(-1, 24,24,1)\n",
    "print(X_train.shape) #(45, 24, 24, 1)\n",
    "print(X_test.shape) #(15, 24, 24, 1)\n",
    "print(y_train.shape) #(45,3)\n",
    "print(y_test.shape) #(15,3)"
   ]
  },
  {
   "cell_type": "code",
   "execution_count": 14,
   "metadata": {
    "ExecuteTime": {
     "end_time": "2020-01-22T01:34:34.935667Z",
     "start_time": "2020-01-22T01:34:34.852656Z"
    }
   },
   "outputs": [
    {
     "data": {
      "image/png": "[encoded data removed]",
      "text/plain": [
       "<Figure size 432x288 with 1 Axes>"
      ]
     },
     "metadata": {
      "needs_background": "light"
     },
     "output_type": "display_data"
    }
   ],
   "source": [
    "plt.imshow(X_train[2,:,:,0], cmap=\"gray\")  \n",
    "plt.show()"
   ]
  },
  {
   "cell_type": "code",
   "execution_count": 15,
   "metadata": {
    "ExecuteTime": {
     "end_time": "2020-01-22T01:40:29.901352Z",
     "start_time": "2020-01-22T01:40:29.756124Z"
    }
   },
   "outputs": [],
   "source": [
    "# 모델 구성하기\n",
    "model = Sequential()\n",
    "\n",
    "model.add(Conv2D(32, kernel_size=(3, 3),input_shape=(24,24,1))) #32개의 필터를 찾아라\n",
    "model.add(BatchNormalization())\n",
    "model.add(Activation('relu'))\n",
    "model.add(MaxPooling2D(pool_size=(2, 2)))\n",
    "    \n",
    "model.add(Conv2D(64, (3, 3))) #64개의 필터를 찾아라\n",
    "model.add(BatchNormalization())\n",
    "model.add(Activation('relu'))\n",
    "model.add(MaxPooling2D(pool_size=(2, 2)))\n",
    "\n",
    "model.add(Flatten())\n",
    "\n",
    "model.add(Dense(128)) \n",
    "model.add(BatchNormalization())\n",
    "model.add(Activation('relu'))\n",
    "\n",
    "model.add(Dense(64)) \n",
    "model.add(BatchNormalization())\n",
    "model.add(Activation('relu'))\n",
    "\n",
    "\n",
    "model.add(Dense(3, activation='softmax'))\n",
    "\n",
    "# 모델 엮기\n",
    "model.compile(loss='categorical_crossentropy', optimizer='adam', metrics=['accuracy'])"
   ]
  },
  {
   "cell_type": "code",
   "execution_count": 30,
   "metadata": {
    "ExecuteTime": {
     "end_time": "2020-01-22T01:40:46.135430Z",
     "start_time": "2020-01-22T01:40:40.931085Z"
    },
    "scrolled": false
   },
   "outputs": [
    {
     "name": "stdout",
     "output_type": "stream",
     "text": [
      "Model: \"sequential_3\"\n",
      "_________________________________________________________________\n",
      "Layer (type)                 Output Shape              Param #   \n",
      "=================================================================\n",
      "conv2d_5 (Conv2D)            (None, 22, 22, 32)        320       \n",
      "_________________________________________________________________\n",
      "batch_normalization_9 (Batch (None, 22, 22, 32)        128       \n",
      "_________________________________________________________________\n",
      "activation_9 (Activation)    (None, 22, 22, 32)        0         \n",
      "_________________________________________________________________\n",
      "max_pooling2d_5 (MaxPooling2 (None, 11, 11, 32)        0         \n",
      "_________________________________________________________________\n",
      "conv2d_6 (Conv2D)            (None, 9, 9, 64)          18496     \n",
      "_________________________________________________________________\n",
      "batch_normalization_10 (Batc (None, 9, 9, 64)          256       \n",
      "_________________________________________________________________\n",
      "activation_10 (Activation)   (None, 9, 9, 64)          0         \n",
      "_________________________________________________________________\n",
      "max_pooling2d_6 (MaxPooling2 (None, 4, 4, 64)          0         \n",
      "_________________________________________________________________\n",
      "flatten_3 (Flatten)          (None, 1024)              0         \n",
      "_________________________________________________________________\n",
      "dense_7 (Dense)              (None, 128)               131200    \n",
      "_________________________________________________________________\n",
      "batch_normalization_11 (Batc (None, 128)               512       \n",
      "_________________________________________________________________\n",
      "activation_11 (Activation)   (None, 128)               0         \n",
      "_________________________________________________________________\n",
      "dense_8 (Dense)              (None, 64)                8256      \n",
      "_________________________________________________________________\n",
      "batch_normalization_12 (Batc (None, 64)                256       \n",
      "_________________________________________________________________\n",
      "activation_12 (Activation)   (None, 64)                0         \n",
      "_________________________________________________________________\n",
      "dense_9 (Dense)              (None, 3)                 195       \n",
      "=================================================================\n",
      "Total params: 159,619\n",
      "Trainable params: 159,043\n",
      "Non-trainable params: 576\n",
      "_________________________________________________________________\n"
     ]
    }
   ],
   "source": [
    "# 모델 학습시키기 #1\n",
    "history = model.fit(X_train, y_train, batch_size = 15, epochs = 100, \n",
    "                    validation_data =(X_test, y_test), verbose = 0)\n",
    "#predict=최종 output까지 가라.(=forward 함수)\n",
    "model.summary() #몇개의 데이터가 들어올지 모르기때문에 앞에는 항상 None\n",
    "#Non-trainable params: 576"
   ]
  },
  {
   "cell_type": "code",
   "execution_count": 17,
   "metadata": {
    "ExecuteTime": {
     "end_time": "2020-01-22T01:40:49.067514Z",
     "start_time": "2020-01-22T01:40:48.963464Z"
    }
   },
   "outputs": [
    {
     "data": {
      "image/png": "[encoded data removed]",
      "text/plain": [
       "<Figure size 432x288 with 1 Axes>"
      ]
     },
     "metadata": {
      "needs_background": "light"
     },
     "output_type": "display_data"
    },
    {
     "name": "stdout",
     "output_type": "stream",
     "text": [
      "15/15 [==============================] - 0s 195us/step\n",
      "[1.6255608797073364, 0.3333333432674408]\n"
     ]
    }
   ],
   "source": [
    "plt.plot(history.history['accuracy'])\n",
    "plt.plot(history.history['val_accuracy'])\n",
    "plt.legend(['training', 'validation'], loc = 'upper left')\n",
    "plt.show()\n",
    "results = model.evaluate(X_test, y_test)\n",
    "print(results)"
   ]
  },
  {
   "cell_type": "code",
   "execution_count": 31,
   "metadata": {},
   "outputs": [
    {
     "name": "stdout",
     "output_type": "stream",
     "text": [
      "conv2d_5\n",
      "True\n",
      "batch_normalization_9\n",
      "True\n",
      "activation_9\n",
      "True\n",
      "max_pooling2d_5\n",
      "True\n",
      "conv2d_6\n",
      "True\n",
      "batch_normalization_10\n",
      "True\n",
      "activation_10\n",
      "True\n",
      "max_pooling2d_6\n",
      "True\n",
      "flatten_3\n",
      "True\n",
      "dense_7\n",
      "True\n",
      "batch_normalization_11\n",
      "True\n",
      "activation_11\n",
      "True\n",
      "dense_8\n",
      "True\n",
      "batch_normalization_12\n",
      "True\n",
      "activation_12\n",
      "True\n",
      "dense_9\n",
      "True\n"
     ]
    }
   ],
   "source": [
    "for l in model.layers:\n",
    "    print(l.name)\n",
    "    print(l.trainable) #train이 가능한 layer인지 아닌지\n",
    "    #false이면 해당 layer pass하고 지나감"
   ]
  },
  {
   "cell_type": "code",
   "execution_count": 29,
   "metadata": {},
   "outputs": [
    {
     "name": "stdout",
     "output_type": "stream",
     "text": [
      "(3, 3, 1, 32)\n",
      "(32,)\n",
      "[[-0.00098283 -0.00442826 -0.01484923]\n",
      " [ 0.08510448 -0.14472426  0.01027088]\n",
      " [-0.10153738  0.01303296 -0.07373676]]\n",
      "[[-0.09174642 -0.02063018  0.06704681]\n",
      " [ 0.08379271  0.08952007  0.0795472 ]\n",
      " [ 0.1077363   0.10770409  0.04899563]]\n"
     ]
    }
   ],
   "source": [
    "w=model.layers[0].get_weights() #첫번째 층의 weight를 가져옴\n",
    "\n",
    "print(w[0].shape) #3x3으로 이루어진 \n",
    "print(w[1].shape) #w[0]=필터/w[1]=bias\n",
    "\n",
    "print(w[0][:,:,0,0]) #첫번째 필터\n",
    "print(w[0][:,:,0,1]) #두번째 필터"
   ]
  },
  {
   "cell_type": "code",
   "execution_count": 32,
   "metadata": {},
   "outputs": [
    {
     "data": {
      "text/plain": [
       "<tf.Tensor 'conv2d_5/BiasAdd:0' shape=(None, 22, 22, 32) dtype=float32>"
      ]
     },
     "execution_count": 32,
     "metadata": {},
     "output_type": "execute_result"
    }
   ],
   "source": [
    "model.layers[0].output #layer의 출력결과 ->22x22x32"
   ]
  },
  {
   "cell_type": "code",
   "execution_count": 54,
   "metadata": {},
   "outputs": [
    {
     "name": "stdout",
     "output_type": "stream",
     "text": [
      "(15, 22, 22, 32)\n"
     ]
    },
    {
     "data": {
      "image/png": "[encoded data removed]",
      "text/plain": [
       "<Figure size 432x288 with 1 Axes>"
      ]
     },
     "metadata": {
      "needs_background": "light"
     },
     "output_type": "display_data"
    },
    {
     "data": {
      "image/png": "[encoded data removed]",
      "text/plain": [
       "<Figure size 432x288 with 1 Axes>"
      ]
     },
     "metadata": {
      "needs_background": "light"
     },
     "output_type": "display_data"
    },
    {
     "data": {
      "image/png": "[encoded data removed]",
      "text/plain": [
       "<Figure size 432x288 with 1 Axes>"
      ]
     },
     "metadata": {
      "needs_background": "light"
     },
     "output_type": "display_data"
    },
    {
     "data": {
      "text/plain": [
       "<matplotlib.image.AxesImage at 0x1da01d70e48>"
      ]
     },
     "execution_count": 54,
     "metadata": {},
     "output_type": "execute_result"
    },
    {
     "data": {
      "image/png": "[encoded data removed]",
      "text/plain": [
       "<Figure size 432x288 with 1 Axes>"
      ]
     },
     "metadata": {
      "needs_background": "light"
     },
     "output_type": "display_data"
    }
   ],
   "source": [
    "from keras.models import Model #중간결과를 알고싶으면 모델을 만들어야한다.\n",
    "my_layer_model=Model(inputs=model.input, outputs=model.layers[0].output) #0번째 레이어의 아웃풋\n",
    "output=my_layer_model.predict(X_test) #X_test=4차원 데이터 #predict는 예측함수가 아니다!!\n",
    "print(output.shape) #(15, 22, 22, 32): 15개 이미지에 대해서 31개 필터\n",
    "plt.imshow(output[0,:,:,5],cmap='gray') #0번째 테스트 이미지에 6번째 필터를 적용했을때 이미지\n",
    "plt.show()\n",
    "\n",
    "#1번째 이미지, 5번째 필터, 출력=1번째이미지*(5번째 필터+b)\n",
    "plt.imshow(X_test[1,:,:,0],cmap='gray') #원본이미지\n",
    "plt.show() #iImg=1로 설정하고 사용해도 됨\n",
    "\n",
    "w=model.layers[0].get_weights() \n",
    "plt.imshow(w[0][:,:,0,5],cmap='gray') #filter\n",
    "plt.show() #iFilter=5 변수로 두고 사용해도 됨\n",
    "\n",
    "plt.imshow(output[1,:,:,5],cmap='gray') #1번 이미지+5번 필터\n",
    "#plt.imshow(output[iImg,:,:,iFilter],cmap='gray')"
   ]
  },
  {
   "cell_type": "code",
   "execution_count": 75,
   "metadata": {},
   "outputs": [
    {
     "name": "stdout",
     "output_type": "stream",
     "text": [
      "(15, 1024)\n",
      "(15, 3)\n",
      "[1 2 1 2 2 0 2 2 1 2 1 2 2 2 2]\n",
      "[0 0 0 0 0 1 1 1 1 1 2 2 2 2 2]\n",
      "******************************\n",
      "[False False False False False False False False  True False False  True\n",
      "  True  True  True]\n",
      "5\n",
      "0.3333333333333333\n"
     ]
    }
   ],
   "source": [
    "#flatten된 결과를 어떻게 가져올까?\n",
    "i_layer_model=Model(inputs=model.input, outputs=model.get_layer(\"flatten_3\").output)\n",
    "output=i_layer_model.predict(X_test) \n",
    "print(output.shape) #(15, 1024) 15개 샘플에 대해서 출력값 1024(=4*4*64)\n",
    "\n",
    "#마지막 레이어의 결과\n",
    "u_layer_model=Model(inputs=model.input, outputs=model.get_layer(\"dense_9\").output)\n",
    "output=u_layer_model.predict(X_test) \n",
    "print(output.shape) #(15, 1024) 15개 샘플에 대한 출력값 3개\n",
    "# print(output)\n",
    "\n",
    "P=np.argmax(output, axis=1) #argmax 사용해서 예측/ 최종 출력물\n",
    "print(P) #예측값\n",
    "T=np.argmax(y_test, axis=1) \n",
    "print(T) #True값\n",
    "print('******************************')\n",
    "\n",
    "print(P==T)\n",
    "print(sum(P==T)*1) #맞춘 개수\n",
    "print(sum(P==T)*1/len(P)) #확률"
   ]
  },
  {
   "cell_type": "code",
   "execution_count": null,
   "metadata": {},
   "outputs": [],
   "source": []
  }
 ],
 "metadata": {
  "kernelspec": {
   "display_name": "Python 3",
   "language": "python",
   "name": "python3"
  },
  "language_info": {
   "codemirror_mode": {
    "name": "ipython",
    "version": 3
   },
   "file_extension": ".py",
   "mimetype": "text/x-python",
   "name": "python",
   "nbconvert_exporter": "python",
   "pygments_lexer": "ipython3",
   "version": "3.7.4"
  },
  "varInspector": {
   "cols": {
    "lenName": 16,
    "lenType": 16,
    "lenVar": 40
   },
   "kernels_config": {
    "python": {
     "delete_cmd_postfix": "",
     "delete_cmd_prefix": "del ",
     "library": "var_list.py",
     "varRefreshCmd": "print(var_dic_list())"
    },
    "r": {
     "delete_cmd_postfix": ") ",
     "delete_cmd_prefix": "rm(",
     "library": "var_list.r",
     "varRefreshCmd": "cat(var_dic_list()) "
    }
   },
   "types_to_exclude": [
    "module",
    "function",
    "builtin_function_or_method",
    "instance",
    "_Feature"
   ],
   "window_display": false
  }
 },
 "nbformat": 4,
 "nbformat_minor": 2
}

{
 "cells": [
  {
   "cell_type": "code",
   "execution_count": 47,
   "metadata": {
    "ExecuteTime": {
     "end_time": "2020-02-21T05:50:31.249087Z",
     "start_time": "2020-02-21T05:50:31.020792Z"
    }
   },
   "outputs": [],
   "source": [
    "from myapp.models import User\n",
    "from myboard import models\n",
    "from django.db import connection\n",
    "from django.db.models import Q\n",
    "from django.test import RequestFactory\n",
    "from django.db import models\n",
    "from myboard.models import Board\n",
    "from myboard import views\n",
    "from django.db import connection\n",
    "from django.contrib.auth.models import User\n",
    "from myboard import models\n",
    "\n",
    "from django.shortcuts import render"
   ]
  },
  {
   "cell_type": "code",
   "execution_count": 1,
   "metadata": {
    "ExecuteTime": {
     "end_time": "2020-02-17T06:17:26.391698Z",
     "start_time": "2020-02-17T06:17:26.385760Z"
    }
   },
   "outputs": [
    {
     "name": "stdout",
     "output_type": "stream",
     "text": [
      "Seo/서지연/27\n",
      "Lee/이한들/27\n"
     ]
    }
   ],
   "source": [
    "data=User.objects.all()\n",
    "for d in data:\n",
    "    print(d)"
   ]
  },
  {
   "cell_type": "code",
   "execution_count": 3,
   "metadata": {
    "ExecuteTime": {
     "end_time": "2020-02-17T06:29:11.529232Z",
     "start_time": "2020-02-17T06:29:11.525244Z"
    }
   },
   "outputs": [
    {
     "name": "stdout",
     "output_type": "stream",
     "text": [
      "서지연\n",
      "27\n"
     ]
    }
   ],
   "source": [
    "print(data[0].name) #첫번째 user의 이름\n",
    "print(data[0].age) #첫번째 user의 나이"
   ]
  },
  {
   "cell_type": "code",
   "execution_count": 17,
   "metadata": {
    "ExecuteTime": {
     "end_time": "2020-02-17T06:37:48.400991Z",
     "start_time": "2020-02-17T06:37:48.394984Z"
    }
   },
   "outputs": [
    {
     "name": "stdout",
     "output_type": "stream",
     "text": [
      "Seo/서지연/27\n",
      "Lee/이한들/27\n",
      "<QuerySet [<User: Seo/서지연/27>, <User: Lee/이한들/27>]>\n",
      "<QuerySet [<User: Seo/서지연/27>]>\n",
      "<QuerySet [<User: Seo/서지연/27>]>\n"
     ]
    }
   ],
   "source": [
    "for d in data:\n",
    "    if d.age>20: print(d)\n",
    "        \n",
    "print(data.filter(age__gte=20)) #age가 20세 이상인 data 출력\n",
    "print(data.filter(name='서지연',age__gte=20)) #print(data.filter(name='서지연').filter(age__gte=20))\n",
    "print(data.filter(name__contains='서')) #'서'를 이름에 포함하고 있는 data 출력\n",
    "# print(data.filter(name__icontains='Seo')) #영문의 대소문자를 가리지 않고 찾을때는 icontains 사용"
   ]
  },
  {
   "cell_type": "code",
   "execution_count": 21,
   "metadata": {
    "ExecuteTime": {
     "end_time": "2020-02-17T06:45:05.604543Z",
     "start_time": "2020-02-17T06:45:05.595567Z"
    }
   },
   "outputs": [
    {
     "data": {
      "text/plain": [
       "<QuerySet [<User: Seo/서지연/27>, <User: Lee/이한들/27>]>"
      ]
     },
     "execution_count": 21,
     "metadata": {},
     "output_type": "execute_result"
    }
   ],
   "source": [
    "from django.db.models import Q\n",
    "data.filter(Q(age__gte=20) | Q(name__contains='서')) # or"
   ]
  },
  {
   "cell_type": "code",
   "execution_count": 22,
   "metadata": {
    "ExecuteTime": {
     "end_time": "2020-02-17T07:01:08.932510Z",
     "start_time": "2020-02-17T07:01:08.929519Z"
    }
   },
   "outputs": [],
   "source": [
    "from django.db import connection\n",
    "ModelCls.objects.all().order_by('-id')[:10] #order_by: 역순(-id)으로 앞에서부터 10개 검색\n",
    "connection.queries[-1] #[-1]: 가장 최근에 실행된 SQL문장"
   ]
  },
  {
   "cell_type": "markdown",
   "metadata": {},
   "source": [
    "# 2월 20일"
   ]
  },
  {
   "cell_type": "code",
   "execution_count": 8,
   "metadata": {
    "ExecuteTime": {
     "end_time": "2020-02-20T02:45:26.311598Z",
     "start_time": "2020-02-20T02:45:26.307613Z"
    }
   },
   "outputs": [
    {
     "name": "stdout",
     "output_type": "stream",
     "text": [
      "<QuerySet []>\n"
     ]
    }
   ],
   "source": [
    "from myboard import models\n",
    "data=models.Board.objects.all().filter(category='common')\n",
    "print(data)"
   ]
  },
  {
   "cell_type": "code",
   "execution_count": 9,
   "metadata": {
    "ExecuteTime": {
     "end_time": "2020-02-20T02:45:28.657036Z",
     "start_time": "2020-02-20T02:45:28.651100Z"
    }
   },
   "outputs": [
    {
     "name": "stdout",
     "output_type": "stream",
     "text": [
      "<QuerySet []>\n"
     ]
    }
   ],
   "source": [
    "page=3\n",
    "subs=data[(page-1)*3:(page)*3]\n",
    "print(subs)"
   ]
  },
  {
   "cell_type": "code",
   "execution_count": 10,
   "metadata": {
    "ExecuteTime": {
     "end_time": "2020-02-20T02:45:30.329372Z",
     "start_time": "2020-02-20T02:45:30.324386Z"
    }
   },
   "outputs": [
    {
     "name": "stdout",
     "output_type": "stream",
     "text": [
      "[]\n"
     ]
    }
   ],
   "source": [
    "#1\n",
    "datas=[]\n",
    "for data in subs:\n",
    "    print({'pk':data.pk, 'title':data.title, 'cnt':data.cnt})\n",
    "    datas.append({'pk':data.pk, 'title':data.title, 'cnt':data.cnt})\n",
    "print(datas)\n",
    "datas={'datas':datas}"
   ]
  },
  {
   "cell_type": "code",
   "execution_count": 11,
   "metadata": {
    "ExecuteTime": {
     "end_time": "2020-02-20T02:45:31.726991Z",
     "start_time": "2020-02-20T02:45:31.713313Z"
    }
   },
   "outputs": [],
   "source": [
    "#2\n",
    "datas={'datas':[{'pk':data.pk, 'title':data.title, 'cnt':data.cnt} for data in subs]}"
   ]
  },
  {
   "cell_type": "code",
   "execution_count": 8,
   "metadata": {
    "ExecuteTime": {
     "end_time": "2020-02-20T08:04:06.676394Z",
     "start_time": "2020-02-20T08:04:06.663415Z"
    }
   },
   "outputs": [
    {
     "ename": "AttributeError",
     "evalue": "module 'django.db.models' has no attribute 'Board'",
     "output_type": "error",
     "traceback": [
      "\u001b[1;31m---------------------------------------------------------------------------\u001b[0m",
      "\u001b[1;31mAttributeError\u001b[0m                            Traceback (most recent call last)",
      "\u001b[1;32m<ipython-input-8-377cc7f027dd>\u001b[0m in \u001b[0;36m<module>\u001b[1;34m\u001b[0m\n\u001b[0;32m     10\u001b[0m \u001b[1;33m\u001b[0m\u001b[0m\n\u001b[0;32m     11\u001b[0m \u001b[0mpage\u001b[0m\u001b[1;33m=\u001b[0m\u001b[0mrequest\u001b[0m\u001b[1;33m.\u001b[0m\u001b[0mGET\u001b[0m\u001b[1;33m.\u001b[0m\u001b[0mget\u001b[0m\u001b[1;33m(\u001b[0m\u001b[1;34m'page'\u001b[0m\u001b[1;33m,\u001b[0m\u001b[1;36m1\u001b[0m\u001b[1;33m)\u001b[0m\u001b[1;33m\u001b[0m\u001b[1;33m\u001b[0m\u001b[0m\n\u001b[1;32m---> 12\u001b[1;33m \u001b[0mdatas\u001b[0m \u001b[1;33m=\u001b[0m \u001b[0mmodels\u001b[0m\u001b[1;33m.\u001b[0m\u001b[0mBoard\u001b[0m\u001b[1;33m.\u001b[0m\u001b[0mobjects\u001b[0m\u001b[1;33m.\u001b[0m\u001b[0mall\u001b[0m\u001b[1;33m(\u001b[0m\u001b[1;33m)\u001b[0m\u001b[1;33m.\u001b[0m\u001b[0mfilter\u001b[0m\u001b[1;33m(\u001b[0m\u001b[0mcategory\u001b[0m\u001b[1;33m=\u001b[0m\u001b[1;34m'common'\u001b[0m\u001b[1;33m)\u001b[0m\u001b[1;33m\u001b[0m\u001b[1;33m\u001b[0m\u001b[0m\n\u001b[0m\u001b[0;32m     13\u001b[0m \u001b[0mpage\u001b[0m \u001b[1;33m=\u001b[0m \u001b[0mint\u001b[0m\u001b[1;33m(\u001b[0m\u001b[0mpage\u001b[0m\u001b[1;33m)\u001b[0m\u001b[1;33m\u001b[0m\u001b[1;33m\u001b[0m\u001b[0m\n\u001b[0;32m     14\u001b[0m \u001b[0msubs\u001b[0m \u001b[1;33m=\u001b[0m \u001b[0mdatas\u001b[0m\u001b[1;33m[\u001b[0m\u001b[1;33m(\u001b[0m\u001b[0mpage\u001b[0m\u001b[1;33m-\u001b[0m\u001b[1;36m1\u001b[0m\u001b[1;33m)\u001b[0m\u001b[1;33m*\u001b[0m\u001b[1;36m3\u001b[0m\u001b[1;33m:\u001b[0m\u001b[1;33m(\u001b[0m\u001b[0mpage\u001b[0m\u001b[1;33m)\u001b[0m\u001b[1;33m*\u001b[0m\u001b[1;36m3\u001b[0m\u001b[1;33m]\u001b[0m\u001b[1;33m\u001b[0m\u001b[1;33m\u001b[0m\u001b[0m\n",
      "\u001b[1;31mAttributeError\u001b[0m: module 'django.db.models' has no attribute 'Board'"
     ]
    }
   ],
   "source": [
    "#웹에서 하나하나 확인하기 힘드니까 랩에서 돌려보는 구조\n",
    "from django.test import RequestFactory\n",
    "from django.db import models\n",
    "from myboard.models import Board\n",
    "\n",
    "from myboard import views\n",
    "rf=RequestFactory()\n",
    "url='/myboard/ajaxget?page=1'\n",
    "request=rf.get(url) #가상의 url 패턴\n",
    "\n",
    "page=request.GET.get('page',1)\n",
    "datas = models.Board.objects.all().filter(category='common')\n",
    "page = int(page)\n",
    "subs = datas[(page-1)*3:(page)*3]\n",
    "datas = {'datas': [ {\"pk\":data.pk, \"title\":data.title, \"cnt\":data.cnt} for data in subs]}\n",
    "print(datas)"
   ]
  },
  {
   "cell_type": "code",
   "execution_count": 9,
   "metadata": {
    "ExecuteTime": {
     "end_time": "2020-02-20T08:04:08.433235Z",
     "start_time": "2020-02-20T08:04:08.415621Z"
    }
   },
   "outputs": [
    {
     "name": "stdout",
     "output_type": "stream",
     "text": [
      "<JsonResponse status_code=200, \"application/json\">\n",
      "{\"datas\": [{\"pk\": 2, \"title\": \"tattoos together-lauv\", \"cnt\": 0}]}\n"
     ]
    }
   ],
   "source": [
    "response=views.ajaxget(request)\n",
    "print(response)\n",
    "print(response.content.decode())"
   ]
  },
  {
   "cell_type": "markdown",
   "metadata": {},
   "source": [
    "# 2월 21일"
   ]
  },
  {
   "cell_type": "code",
   "execution_count": 7,
   "metadata": {
    "ExecuteTime": {
     "end_time": "2020-02-21T05:10:40.984336Z",
     "start_time": "2020-02-21T05:10:40.980347Z"
    }
   },
   "outputs": [],
   "source": [
    "from django.db import connection\n",
    "from django.contrib.auth.models import User\n",
    "from myboard import models"
   ]
  },
  {
   "cell_type": "code",
   "execution_count": 15,
   "metadata": {
    "ExecuteTime": {
     "end_time": "2020-02-21T01:00:02.376782Z",
     "start_time": "2020-02-21T01:00:02.344359Z"
    }
   },
   "outputs": [
    {
     "data": {
      "text/plain": [
       "<RawQuerySet: SELECT max(age) FROM myapp_user>"
      ]
     },
     "execution_count": 15,
     "metadata": {},
     "output_type": "execute_result"
    }
   ],
   "source": [
    "#orm2\n",
    "data=User.objects.all()\n",
    "models.Board??\n",
    "connection.queries[-1]\n",
    "User.objects.raw('SELECT max(age) FROM myapp_user')"
   ]
  },
  {
   "cell_type": "code",
   "execution_count": 5,
   "metadata": {
    "ExecuteTime": {
     "end_time": "2020-02-21T00:30:31.339417Z",
     "start_time": "2020-02-21T00:30:31.327437Z"
    }
   },
   "outputs": [
    {
     "name": "stdout",
     "output_type": "stream",
     "text": [
      "31\n"
     ]
    }
   ],
   "source": [
    "cursor=connection.cursor() #전체 레코드에서 특정 raw를 가리킴\n",
    "cursor.execute('SELECT max(age) from myapp_user') #SQL문장 /나이의 max값 \n",
    "max_value=cursor.fetchone()[0] #fetch one: client쪽으로 하나를 가져다줌\n",
    "print(max_value)"
   ]
  },
  {
   "cell_type": "code",
   "execution_count": 7,
   "metadata": {
    "ExecuteTime": {
     "end_time": "2020-02-21T00:30:38.093707Z",
     "start_time": "2020-02-21T00:30:38.087672Z"
    }
   },
   "outputs": [
    {
     "name": "stdout",
     "output_type": "stream",
     "text": [
      "[(1, 'checklist-max', \"Checklist, 1, 2, 3\\r\\nOne, I put you 1st\\r\\nTwo of everything you deserve\\r\\nThree wishes, please\\r\\nGet you diamonds, rub your feet\\r\\nName it\\r\\nDon't need no special occasion\\r\\nGirl, I celebrate it\\r\\nSo go ahead and make it\\r\\nYour\\r\\nChecklist, 1, 2, 3\\r\\nYou can tell me what you need\\r\\nBaby check this A, B, C\\r\\nYou make it look so easy\\r\\nOn the guest list\\r\\nIt's you and me\\r\\nWe gon' need some privacy\\r\\nI can give you what you want\\r\\nYou just need to put it on a checklist\\r\\nA, Attitude and\\r\\nB, Bad as hell girl\\r\\nC, Can't believe I got you all to myself now\\r\\nI don't get intimidated\\r\\nGirl, I celebrate it\\r\\nSo go ahead and make it\\r\\nYour\\r\\nChecklist, 1, 2, 3\\r\\nYou can tell me what you need\\r\\nBaby check this A, B, C\\r\\nYou make it look so easy\\r\\nOn the guest list\\r\\nIt's you and me\\r\\nWe gon' need some privacy\\r\\nI can give you what you want\\r\\nYou just need to put it on a checklist\\r\\nI can give you what you want\\r\\nYou just need to put it on a\\r\\nPriceless but you love expensive\\r\\nWe do it big like it's Texas\\r\\nHome movies all got three X's\\r\\nEvery night I count my blessings\\r\\nAnd I love it\\r\\nPlace no one above it\\r\\nIt's your world you can run it\\r\\nYou know that I want it girl\\r\\nChecklist, 1, 2, 3 (1, 2, 3)\\r\\nChecklist, 1, 2, 3\\r\\nYou can tell me what you need\\r\\nBaby check this A, B, C\\r\\nYou make it look so easy\\r\\nOn the guest list\\r\\nIt's you and me\\r\\nWe gon' need some privacy\\r\\nI can give you what you want\\r\\nYou just need to put it on a checklist\\r\\nChecklist\\r\\nI can give you what you want\\r\\nYou just need to put it on a\", datetime.datetime(2020, 2, 20, 7, 4, 41, 106523), 0, None, 'etc', 2), (2, 'tattoos together-lauv', \"Said I'd never fall, I'd never fall\\r\\nI'd never fall, but then I fell for you, mm\\r\\nBack against the wall, against the wall\\r\\nAgainst the wall, that's how it felt with you, mm, mm\\r\\nOne weekend in Portland\\r\\nYou weren't even my girlfriend\\r\\nWe were walkin' and talkin'\\r\\nThen somebody said\\r\\nLet's get tattoos together, something to remember\\r\\nIf it's way too soon, fuck it, whatever\\r\\nGive me shapes and letters, if it's not forever\\r\\nThen at least we'll have tattoos together\\r\\nMm, 'cause I love you\\r\\nMm, 'cause I love you\\r\\nMm, 'cause I love you\\r\\nMm\\r\\nKnew it from the moment, from the moment\\r\\nFrom the moment that I saw you naked, mm, yeah\\r\\nI could never love nobody else, nobody else\\r\\nThe way I loved you, baby, mm, mm\\r\\nOne weekend (weekend), no sleepin' (sleepin')\\r\\nYou weren't even my girlfriend, yeah\\r\\nWe were kissin', like, real kissin'\\r\\nThen somebody said\\r\\nLet's get tattoos together, something to remember\\r\\nIf it's way too soon, fuck it, whatever\\r\\nGive me shapes and letters, if it's not forever\\r\\nThen at least we'll have tattoos together\\r\\nMm, 'cause I love you\\r\\nMm, 'cause I love you\\r\\nMm, 'cause I love you\\r\\nMm, tattoos together\\r\\nYeah, your cherry earrings are my favorite (favorite)\\r\\nIt looks so good, I had to save it (save it)\\r\\nI've been hopin', prayin' we last forever\\r\\n'Cause there's nothin' better than you and I\\r\\nTattoos together, something to remember\\r\\nIf it's way too soon, fuck it, whatever\\r\\nGive me shapes and letters, if it's not forever\\r\\nThen at least we'll have tattoos together\\r\\nMm, 'cause I love you\\r\\nMm, 'cause I love you\\r\\nMm, 'cause I love you\\r\\nMm (oh)\\r\\nOh yeah\\r\\nMm, oh yeah\\r\\nMm, hm\", datetime.datetime(2020, 2, 20, 7, 4, 53, 596739), 0, None, 'common', 2), (3, \"Let's Fall in Love for the Night - FINNEAS\", \"Let's fall in love for the night\\r\\nAnd forget in the morning\\r\\nPlay me a song that you like\\r\\nYou can bet I'll know every line\\r\\nI'm a boy that your boy hoped that you would avoid\\r\\nDon't waste your eyes on jealous guys, fuck that noise\\r\\nI know better than to call you mine\\r\\nYou need a pick me up?\\r\\nI'll be there in twenty five\\r\\nI like to push my luck\\r\\nSo take my hand, let's take a drive\\r\\nI've been living in the future\\r\\nHoping I might see you sooner\\r\\nI want you, right at shotgun I knew\\r\\nWhen I got one right\\r\\nLet's fall in love for the night\\r\\nAnd forget in the morning\\r\\nPlay me a song that you like\\r\\nYou can bet I'll know every line\\r\\nI'm a boy that your boy hoped that you would avoid\\r\\nDon't waste your eyes on jealous guys, fuck that noise\\r\\nI know better than to call you mine\\r\\nI love it when you talk that nerdy shit\\r\\nWe're in our twenties talking thirties shit\\r\\nWe're making money but we're saving it\\r\\n'Cause talking shit is cheap and we talk a lot of it\\r\\nYou won't stay with me, I know\\r\\nBut you can have your way with me 'til you go\\r\\nAnd before your kisses turn into bruises, I'm a warning\\r\\nLet's fall in love for the night\\r\\nAnd forget in the morning\\r\\nPlay me a song that you like\\r\\nYou can bet I'll know every line\\r\\nI'm a boy that your boy hoped that you would avoid\\r\\nDon't waste your eyes on jealous guys, fuck that noise\\r\\nI know better, I know better, I know better than to ever call you mine\", datetime.datetime(2020, 2, 20, 7, 5, 13, 301682), 0, None, 'data', 2)]\n"
     ]
    },
    {
     "data": {
      "text/plain": [
       "(1,\n",
       " 'checklist-max',\n",
       " \"Checklist, 1, 2, 3\\r\\nOne, I put you 1st\\r\\nTwo of everything you deserve\\r\\nThree wishes, please\\r\\nGet you diamonds, rub your feet\\r\\nName it\\r\\nDon't need no special occasion\\r\\nGirl, I celebrate it\\r\\nSo go ahead and make it\\r\\nYour\\r\\nChecklist, 1, 2, 3\\r\\nYou can tell me what you need\\r\\nBaby check this A, B, C\\r\\nYou make it look so easy\\r\\nOn the guest list\\r\\nIt's you and me\\r\\nWe gon' need some privacy\\r\\nI can give you what you want\\r\\nYou just need to put it on a checklist\\r\\nA, Attitude and\\r\\nB, Bad as hell girl\\r\\nC, Can't believe I got you all to myself now\\r\\nI don't get intimidated\\r\\nGirl, I celebrate it\\r\\nSo go ahead and make it\\r\\nYour\\r\\nChecklist, 1, 2, 3\\r\\nYou can tell me what you need\\r\\nBaby check this A, B, C\\r\\nYou make it look so easy\\r\\nOn the guest list\\r\\nIt's you and me\\r\\nWe gon' need some privacy\\r\\nI can give you what you want\\r\\nYou just need to put it on a checklist\\r\\nI can give you what you want\\r\\nYou just need to put it on a\\r\\nPriceless but you love expensive\\r\\nWe do it big like it's Texas\\r\\nHome movies all got three X's\\r\\nEvery night I count my blessings\\r\\nAnd I love it\\r\\nPlace no one above it\\r\\nIt's your world you can run it\\r\\nYou know that I want it girl\\r\\nChecklist, 1, 2, 3 (1, 2, 3)\\r\\nChecklist, 1, 2, 3\\r\\nYou can tell me what you need\\r\\nBaby check this A, B, C\\r\\nYou make it look so easy\\r\\nOn the guest list\\r\\nIt's you and me\\r\\nWe gon' need some privacy\\r\\nI can give you what you want\\r\\nYou just need to put it on a checklist\\r\\nChecklist\\r\\nI can give you what you want\\r\\nYou just need to put it on a\",\n",
       " datetime.datetime(2020, 2, 20, 7, 4, 41, 106523),\n",
       " 0,\n",
       " None,\n",
       " 'etc',\n",
       " 2)"
      ]
     },
     "execution_count": 7,
     "metadata": {},
     "output_type": "execute_result"
    }
   ],
   "source": [
    "cursor=connection.cursor() \n",
    "cursor.execute('SELECT * from myboard_board') #*: 모든 필드 의미, 보안에 취약하므로 쓰지말것\n",
    "results=cursor.fetchall() #fetch all: 모든 결과값을 가져옴\n",
    "print(results)\n",
    "results[0]"
   ]
  },
  {
   "cell_type": "code",
   "execution_count": 8,
   "metadata": {
    "ExecuteTime": {
     "end_time": "2020-02-21T00:30:43.699791Z",
     "start_time": "2020-02-21T00:30:43.695802Z"
    }
   },
   "outputs": [
    {
     "name": "stdout",
     "output_type": "stream",
     "text": [
      "(1, 'checklist-max', \"Checklist, 1, 2, 3\\r\\nOne, I put you 1st\\r\\nTwo of everything you deserve\\r\\nThree wishes, please\\r\\nGet you diamonds, rub your feet\\r\\nName it\\r\\nDon't need no special occasion\\r\\nGirl, I celebrate it\\r\\nSo go ahead and make it\\r\\nYour\\r\\nChecklist, 1, 2, 3\\r\\nYou can tell me what you need\\r\\nBaby check this A, B, C\\r\\nYou make it look so easy\\r\\nOn the guest list\\r\\nIt's you and me\\r\\nWe gon' need some privacy\\r\\nI can give you what you want\\r\\nYou just need to put it on a checklist\\r\\nA, Attitude and\\r\\nB, Bad as hell girl\\r\\nC, Can't believe I got you all to myself now\\r\\nI don't get intimidated\\r\\nGirl, I celebrate it\\r\\nSo go ahead and make it\\r\\nYour\\r\\nChecklist, 1, 2, 3\\r\\nYou can tell me what you need\\r\\nBaby check this A, B, C\\r\\nYou make it look so easy\\r\\nOn the guest list\\r\\nIt's you and me\\r\\nWe gon' need some privacy\\r\\nI can give you what you want\\r\\nYou just need to put it on a checklist\\r\\nI can give you what you want\\r\\nYou just need to put it on a\\r\\nPriceless but you love expensive\\r\\nWe do it big like it's Texas\\r\\nHome movies all got three X's\\r\\nEvery night I count my blessings\\r\\nAnd I love it\\r\\nPlace no one above it\\r\\nIt's your world you can run it\\r\\nYou know that I want it girl\\r\\nChecklist, 1, 2, 3 (1, 2, 3)\\r\\nChecklist, 1, 2, 3\\r\\nYou can tell me what you need\\r\\nBaby check this A, B, C\\r\\nYou make it look so easy\\r\\nOn the guest list\\r\\nIt's you and me\\r\\nWe gon' need some privacy\\r\\nI can give you what you want\\r\\nYou just need to put it on a checklist\\r\\nChecklist\\r\\nI can give you what you want\\r\\nYou just need to put it on a\", datetime.datetime(2020, 2, 20, 7, 4, 41, 106523), 0, None, 'etc', 2)\n",
      "(2, 'tattoos together-lauv', \"Said I'd never fall, I'd never fall\\r\\nI'd never fall, but then I fell for you, mm\\r\\nBack against the wall, against the wall\\r\\nAgainst the wall, that's how it felt with you, mm, mm\\r\\nOne weekend in Portland\\r\\nYou weren't even my girlfriend\\r\\nWe were walkin' and talkin'\\r\\nThen somebody said\\r\\nLet's get tattoos together, something to remember\\r\\nIf it's way too soon, fuck it, whatever\\r\\nGive me shapes and letters, if it's not forever\\r\\nThen at least we'll have tattoos together\\r\\nMm, 'cause I love you\\r\\nMm, 'cause I love you\\r\\nMm, 'cause I love you\\r\\nMm\\r\\nKnew it from the moment, from the moment\\r\\nFrom the moment that I saw you naked, mm, yeah\\r\\nI could never love nobody else, nobody else\\r\\nThe way I loved you, baby, mm, mm\\r\\nOne weekend (weekend), no sleepin' (sleepin')\\r\\nYou weren't even my girlfriend, yeah\\r\\nWe were kissin', like, real kissin'\\r\\nThen somebody said\\r\\nLet's get tattoos together, something to remember\\r\\nIf it's way too soon, fuck it, whatever\\r\\nGive me shapes and letters, if it's not forever\\r\\nThen at least we'll have tattoos together\\r\\nMm, 'cause I love you\\r\\nMm, 'cause I love you\\r\\nMm, 'cause I love you\\r\\nMm, tattoos together\\r\\nYeah, your cherry earrings are my favorite (favorite)\\r\\nIt looks so good, I had to save it (save it)\\r\\nI've been hopin', prayin' we last forever\\r\\n'Cause there's nothin' better than you and I\\r\\nTattoos together, something to remember\\r\\nIf it's way too soon, fuck it, whatever\\r\\nGive me shapes and letters, if it's not forever\\r\\nThen at least we'll have tattoos together\\r\\nMm, 'cause I love you\\r\\nMm, 'cause I love you\\r\\nMm, 'cause I love you\\r\\nMm (oh)\\r\\nOh yeah\\r\\nMm, oh yeah\\r\\nMm, hm\", datetime.datetime(2020, 2, 20, 7, 4, 53, 596739), 0, None, 'common', 2)\n",
      "(3, \"Let's Fall in Love for the Night - FINNEAS\", \"Let's fall in love for the night\\r\\nAnd forget in the morning\\r\\nPlay me a song that you like\\r\\nYou can bet I'll know every line\\r\\nI'm a boy that your boy hoped that you would avoid\\r\\nDon't waste your eyes on jealous guys, fuck that noise\\r\\nI know better than to call you mine\\r\\nYou need a pick me up?\\r\\nI'll be there in twenty five\\r\\nI like to push my luck\\r\\nSo take my hand, let's take a drive\\r\\nI've been living in the future\\r\\nHoping I might see you sooner\\r\\nI want you, right at shotgun I knew\\r\\nWhen I got one right\\r\\nLet's fall in love for the night\\r\\nAnd forget in the morning\\r\\nPlay me a song that you like\\r\\nYou can bet I'll know every line\\r\\nI'm a boy that your boy hoped that you would avoid\\r\\nDon't waste your eyes on jealous guys, fuck that noise\\r\\nI know better than to call you mine\\r\\nI love it when you talk that nerdy shit\\r\\nWe're in our twenties talking thirties shit\\r\\nWe're making money but we're saving it\\r\\n'Cause talking shit is cheap and we talk a lot of it\\r\\nYou won't stay with me, I know\\r\\nBut you can have your way with me 'til you go\\r\\nAnd before your kisses turn into bruises, I'm a warning\\r\\nLet's fall in love for the night\\r\\nAnd forget in the morning\\r\\nPlay me a song that you like\\r\\nYou can bet I'll know every line\\r\\nI'm a boy that your boy hoped that you would avoid\\r\\nDon't waste your eyes on jealous guys, fuck that noise\\r\\nI know better, I know better, I know better than to ever call you mine\", datetime.datetime(2020, 2, 20, 7, 5, 13, 301682), 0, None, 'data', 2)\n"
     ]
    }
   ],
   "source": [
    "for r in results:\n",
    "    print(r)"
   ]
  },
  {
   "cell_type": "code",
   "execution_count": 4,
   "metadata": {
    "ExecuteTime": {
     "end_time": "2020-02-21T01:21:55.343805Z",
     "start_time": "2020-02-21T01:21:55.328923Z"
    }
   },
   "outputs": [
    {
     "name": "stdout",
     "output_type": "stream",
     "text": [
      "(1, 'checklist-max', 0, 'Seo')\n",
      "[(2, 'tattoos together-lauv', 0, 'Seo'), (3, \"Let's Fall in Love for the Night - FINNEAS\", 0, 'Seo')]\n",
      "(2, 'tattoos together-lauv', 0, 'Seo')\n",
      "(3, \"Let's Fall in Love for the Night - FINNEAS\", 0, 'Seo')\n"
     ]
    }
   ],
   "source": [
    "cursor=connection.cursor() \n",
    "cursor.execute(\"\"\"\n",
    "SELECT b.id,title,cnt,username from myboard_board b, auth_user u\n",
    "where b.author_id=u.id and username='Seo'\n",
    "\"\"\") \n",
    "#username이 Seo에 해당하는 id, title, cnt를 가져오기\n",
    "o=cursor.fetchone() #Run할때마다 다음 레코드를 가져옴 \n",
    "print(o) \n",
    "result=cursor.fetchall()\n",
    "print(result)\n",
    "for r in result:\n",
    "    print(r)"
   ]
  },
  {
   "cell_type": "markdown",
   "metadata": {},
   "source": [
    "#1\n",
    "SELECT id,title,cnt from myboard_board\n",
    "where author_id=(select id from auth_user where username='Seo')\n",
    "#2\n",
    "SELECT b.id,title,cnt,username from myboard_board b, auth_user u\n",
    "where b.author_id=u.id and username='Seo'"
   ]
  },
  {
   "cell_type": "code",
   "execution_count": 5,
   "metadata": {
    "ExecuteTime": {
     "end_time": "2020-02-21T01:21:57.540165Z",
     "start_time": "2020-02-21T01:21:57.526640Z"
    }
   },
   "outputs": [
    {
     "data": {
      "text/plain": [
       "(('id', None, None, None, None, None, None),\n",
       " ('title', None, None, None, None, None, None),\n",
       " ('cnt', None, None, None, None, None, None),\n",
       " ('username', None, None, None, None, None, None))"
      ]
     },
     "execution_count": 5,
     "metadata": {},
     "output_type": "execute_result"
    }
   ],
   "source": [
    "cursor.description #cursor에 해당하는 정보 로딩"
   ]
  },
  {
   "cell_type": "code",
   "execution_count": 6,
   "metadata": {
    "ExecuteTime": {
     "end_time": "2020-02-21T01:23:18.371863Z",
     "start_time": "2020-02-21T01:23:18.368840Z"
    }
   },
   "outputs": [
    {
     "name": "stdout",
     "output_type": "stream",
     "text": [
      "{'id': 2, 'title': 'tattoos together-lauv', 'cnt': 0, 'username': 'Seo'}\n"
     ]
    }
   ],
   "source": [
    "d=dict(zip(['id','title','cnt','username'], result[0]))\n",
    "print(d)"
   ]
  },
  {
   "cell_type": "code",
   "execution_count": 9,
   "metadata": {
    "ExecuteTime": {
     "end_time": "2020-02-21T05:10:51.388868Z",
     "start_time": "2020-02-21T05:10:51.385874Z"
    }
   },
   "outputs": [],
   "source": [
    "def dictfetchall(cursor):\n",
    "    desc=cursor.description\n",
    "    return [dict(zip([col[0] for col in desc], row))\n",
    "           for row in cursor.fetchall()] #각 항목의 0번째"
   ]
  },
  {
   "cell_type": "code",
   "execution_count": 10,
   "metadata": {
    "ExecuteTime": {
     "end_time": "2020-02-21T05:10:51.768886Z",
     "start_time": "2020-02-21T05:10:51.763901Z"
    }
   },
   "outputs": [
    {
     "name": "stdout",
     "output_type": "stream",
     "text": [
      "checklist-max\n"
     ]
    }
   ],
   "source": [
    "cursor=connection.cursor()\n",
    "cursor.execute('SELECT * from myboard_board')\n",
    "d=dictfetchall(cursor)\n",
    "print(d[0]['title'])"
   ]
  },
  {
   "cell_type": "code",
   "execution_count": 11,
   "metadata": {
    "ExecuteTime": {
     "end_time": "2020-02-21T05:10:52.879705Z",
     "start_time": "2020-02-21T05:10:52.875752Z"
    }
   },
   "outputs": [],
   "source": [
    "sql=\"\"\"\n",
    "CREATE TABLE myboard_image\n",
    "(id INTEGER PRIMARY KEY AUTOINCREMENT,\n",
    "author_id INTEGER NOT NULL,\n",
    "filename VARCHAR(50) NOT NULL,\n",
    "FOREIGN KEY (author_id) REFERENCES auth_user(id))\n",
    "\"\"\""
   ]
  },
  {
   "cell_type": "code",
   "execution_count": 37,
   "metadata": {
    "ExecuteTime": {
     "end_time": "2020-02-21T05:19:32.328417Z",
     "start_time": "2020-02-21T05:19:32.323431Z"
    }
   },
   "outputs": [
    {
     "name": "stdout",
     "output_type": "stream",
     "text": [
      "2\n",
      "\n",
      "INSERT INTO myboard_image\n",
      "(author_id, filename)\n",
      "VALUES (1, 'arwa.png');\n",
      "\n"
     ]
    }
   ],
   "source": [
    "username='Seo'\n",
    "\n",
    "sql=f\"select id from auth_user where username='{username}'\"\n",
    "cursor.execute(sql)\n",
    "author_id=cursor.fetchone()[0]\n",
    "print(author_id)\n",
    "\n",
    "author_id= 1\n",
    "filename= 'arwa.png'\n",
    "\n",
    "sql=f\"\"\"\n",
    "INSERT INTO myboard_image\n",
    "(author_id, filename)\n",
    "VALUES ({author_id}, '{filename}');\n",
    "\"\"\"\n",
    "print(sql)"
   ]
  },
  {
   "cell_type": "code",
   "execution_count": 41,
   "metadata": {
    "ExecuteTime": {
     "end_time": "2020-02-21T05:41:05.237811Z",
     "start_time": "2020-02-21T05:41:05.227832Z"
    }
   },
   "outputs": [],
   "source": [
    "v = cursor.execute(sql)"
   ]
  },
  {
   "cell_type": "code",
   "execution_count": 48,
   "metadata": {
    "ExecuteTime": {
     "end_time": "2020-02-21T05:50:34.352539Z",
     "start_time": "2020-02-21T05:50:34.340588Z"
    }
   },
   "outputs": [
    {
     "name": "stdout",
     "output_type": "stream",
     "text": [
      "{'data': [{'filename': 'f4.jpg'}], 'username': 'Seo'}\n"
     ]
    },
    {
     "ename": "NameError",
     "evalue": "name 'request' is not defined",
     "output_type": "error",
     "traceback": [
      "\u001b[1;31m---------------------------------------------------------------------------\u001b[0m",
      "\u001b[1;31mNameError\u001b[0m                                 Traceback (most recent call last)",
      "\u001b[1;32m<ipython-input-48-119d6aec9ab3>\u001b[0m in \u001b[0;36m<module>\u001b[1;34m\u001b[0m\n\u001b[0;32m      8\u001b[0m \u001b[0mcontext\u001b[0m\u001b[1;33m=\u001b[0m\u001b[1;33m{\u001b[0m\u001b[1;34m'data'\u001b[0m\u001b[1;33m:\u001b[0m\u001b[0mdata\u001b[0m\u001b[1;33m,\u001b[0m \u001b[1;34m'username'\u001b[0m\u001b[1;33m:\u001b[0m\u001b[0musername\u001b[0m\u001b[1;33m}\u001b[0m\u001b[1;33m\u001b[0m\u001b[1;33m\u001b[0m\u001b[0m\n\u001b[0;32m      9\u001b[0m \u001b[0mprint\u001b[0m\u001b[1;33m(\u001b[0m\u001b[0mcontext\u001b[0m\u001b[1;33m)\u001b[0m\u001b[1;33m\u001b[0m\u001b[1;33m\u001b[0m\u001b[0m\n\u001b[1;32m---> 10\u001b[1;33m \u001b[0mresponse\u001b[0m\u001b[1;33m=\u001b[0m\u001b[0mrender\u001b[0m\u001b[1;33m(\u001b[0m\u001b[0mrequest\u001b[0m\u001b[1;33m,\u001b[0m \u001b[1;34m'myboard/photolist.html'\u001b[0m\u001b[1;33m,\u001b[0m \u001b[0mcontext\u001b[0m\u001b[1;33m)\u001b[0m\u001b[1;33m\u001b[0m\u001b[1;33m\u001b[0m\u001b[0m\n\u001b[0m\u001b[0;32m     11\u001b[0m \u001b[0mprint\u001b[0m\u001b[1;33m(\u001b[0m\u001b[0mresponse\u001b[0m\u001b[1;33m)\u001b[0m\u001b[1;33m\u001b[0m\u001b[1;33m\u001b[0m\u001b[0m\n",
      "\u001b[1;31mNameError\u001b[0m: name 'request' is not defined"
     ]
    }
   ],
   "source": [
    "sql=f\"\"\"\n",
    "SELECT filename from myboard_image\n",
    "where author_id=(select id from auth_user where username=\"{username}\")\n",
    "\"\"\"\n",
    "cursor=connection.cursor()\n",
    "cursor.execute(sql)\n",
    "data=dictfetchall(cursor)\n",
    "context={'data':data, 'username':username}\n",
    "response=render(request, 'myboard/photolist.html', context)"
   ]
  }
 ],
 "metadata": {
  "kernelspec": {
   "display_name": "Django Shell-Plus",
   "language": "python",
   "name": "django_extensions"
  },
  "language_info": {
   "codemirror_mode": {
    "name": "ipython",
    "version": 3
   },
   "file_extension": ".py",
   "mimetype": "text/x-python",
   "name": "python",
   "nbconvert_exporter": "python",
   "pygments_lexer": "ipython3",
   "version": "3.7.4"
  },
  "varInspector": {
   "cols": {
    "lenName": 16,
    "lenType": 16,
    "lenVar": 40
   },
   "kernels_config": {
    "python": {
     "delete_cmd_postfix": "",
     "delete_cmd_prefix": "del ",
     "library": "var_list.py",
     "varRefreshCmd": "print(var_dic_list())"
    },
    "r": {
     "delete_cmd_postfix": ") ",
     "delete_cmd_prefix": "rm(",
     "library": "var_list.r",
     "varRefreshCmd": "cat(var_dic_list()) "
    }
   },
   "types_to_exclude": [
    "module",
    "function",
    "builtin_function_or_method",
    "instance",
    "_Feature"
   ],
   "window_display": false
  }
 },
 "nbformat": 4,
 "nbformat_minor": 2
}

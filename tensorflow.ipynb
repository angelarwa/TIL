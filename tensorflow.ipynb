{
  "nbformat": 4,
  "nbformat_minor": 0,
  "metadata": {
    "kernelspec": {
      "display_name": "Python 3",
      "language": "python",
      "name": "python3"
    },
    "language_info": {
      "codemirror_mode": {
        "name": "ipython",
        "version": 3
      },
      "file_extension": ".py",
      "mimetype": "text/x-python",
      "name": "python",
      "nbconvert_exporter": "python",
      "pygments_lexer": "ipython3",
      "version": "3.7.4"
    },
    "colab": {
      "name": "tensorflow.ipynb",
      "provenance": [],
      "include_colab_link": true
    }
  },
  "cells": [
    {
      "cell_type": "markdown",
      "metadata": {
        "id": "view-in-github",
        "colab_type": "text"
      },
      "source": [
        "<a href=\"https://colab.research.google.com/github/angelarwa/TIL/blob/master/tensorflow.ipynb\" target=\"_parent\"><img src=\"https://colab.research.google.com/assets/colab-badge.svg\" alt=\"Open In Colab\"/></a>"
      ]
    },
    {
      "cell_type": "markdown",
      "metadata": {
        "id": "4JvsMHcgd2Cf",
        "colab_type": "text"
      },
      "source": [
        "## 12월30일"
      ]
    },
    {
      "cell_type": "code",
      "metadata": {
        "id": "15KxZuOFd2Ch",
        "colab_type": "code",
        "colab": {},
        "outputId": "24d7ff7f-7121-4231-b39d-ad80ce3eea13"
      },
      "source": [
        "import tensorflow as tf\n",
        "\n",
        "print(tf.__version__) \n",
        "\n",
        "#activate tutorial"
      ],
      "execution_count": 0,
      "outputs": [
        {
          "output_type": "stream",
          "text": [
            "1.15.0\n"
          ],
          "name": "stdout"
        }
      ]
    },
    {
      "cell_type": "code",
      "metadata": {
        "id": "91t6rGvcd2Cl",
        "colab_type": "code",
        "colab": {},
        "outputId": "75736554-dd83-484d-fdcc-c5ae10cf39b8"
      },
      "source": [
        "import tensorflow as tf\n",
        "\n",
        "#상수(constant) 정의\n",
        "a = tf.constant(1234) \n",
        "b = tf.constant(5000)\n",
        "\n",
        "#계산 정의\n",
        "add_op = a+b\n",
        "\n",
        "#세션 시작 \n",
        "sess = tf.Session() \n",
        "res = sess.run(add_op) #계산식 평가 \n",
        "print(res)"
      ],
      "execution_count": 0,
      "outputs": [
        {
          "output_type": "stream",
          "text": [
            "6234\n"
          ],
          "name": "stdout"
        }
      ]
    },
    {
      "cell_type": "code",
      "metadata": {
        "id": "z--hDJYld2Cn",
        "colab_type": "code",
        "colab": {},
        "outputId": "15c955e0-ec33-499e-d530-6de8697ade67"
      },
      "source": [
        "import tensorflow as tf\n",
        "\n",
        "#상수 정의\n",
        "a = tf.constant(2) \n",
        "b = tf.constant(3)\n",
        "c = tf.constant(4)\n",
        "\n",
        "#계산 정의\n",
        "calc1_op = a + b *c\n",
        "calc2_op = (a+b) * c\n",
        "\n",
        "#세션 시작 \n",
        "sess = tf.Session() \n",
        "res1 = sess.run(calc1_op) #계산식 평가 \n",
        "print(res1)\n",
        "res2 = sess.run(calc2_op) #계산식 평가 \n",
        "print(res2)\n"
      ],
      "execution_count": 0,
      "outputs": [
        {
          "output_type": "stream",
          "text": [
            "14\n",
            "20\n"
          ],
          "name": "stdout"
        }
      ]
    },
    {
      "cell_type": "code",
      "metadata": {
        "id": "dCkbZiX1d2Cq",
        "colab_type": "code",
        "colab": {},
        "outputId": "b57bc9c0-1f7a-4009-b56f-c546e98e6a9a"
      },
      "source": [
        "import tensorflow as tf\n",
        "\n",
        "#상수 정의\n",
        "a = tf.constant(100) \n",
        "b = tf.constant(50)\n",
        "add_op = a+ b\n",
        "\n",
        "#변수 v 선언하기\n",
        "v = tf.Variable(0)\n",
        "\n",
        "# 변수 v에 add_op의 결과 대입하기\n",
        "let_op = tf.assign(v, add_op)\n",
        "\n",
        "#세션 시작 \n",
        "sess = tf.Session() \n",
        "# 변수 초기화히기\n",
        "sess.run(tf.global_variables_initializer()) \n",
        "#계산식 실행\n",
        "sess.run(let_op) \n",
        "print(sess.run(v))"
      ],
      "execution_count": 0,
      "outputs": [
        {
          "output_type": "stream",
          "text": [
            "150\n"
          ],
          "name": "stdout"
        }
      ]
    },
    {
      "cell_type": "code",
      "metadata": {
        "id": "JuzjZjvPd2Ct",
        "colab_type": "code",
        "colab": {},
        "outputId": "372e0aa0-840f-4c60-f6f5-97e6022722cf"
      },
      "source": [
        "import tensorflow as tf\n",
        "\n",
        "a = tf.placeholder(tf.int32, [3]) #placeholder 정의(정수 자료형 3개를 가진 배열)\n",
        "b = tf.constant(2)\n",
        "x2_op = a*b\n",
        "\n",
        "#세션 시작 \n",
        "sess = tf.Session() \n",
        "# placeholder에 값 넣고 실행하기\n",
        "r1 = sess.run(x2_op, feed_dict = {a:[1, 2, 3]})\n",
        "print(r1)\n",
        "r2 = sess.run(x2_op, feed_dict = {a:[10, 20, 10]})\n",
        "print(r2)\n",
        "\n",
        "#tensoflow.sqrt(x): x의 제곱근을 계산\n",
        "#tensoflow.reduce_mean(x): x의 평균을 계산\n",
        "#tensoflow.square(x): x의 제곱을 계산\n",
        "#random_uniform([1], 0, 10,…) : 0에서 10 사이에서 임의의 수 1개 생성 반환\n",
        "#Variable() : 변수의 값을 지정 "
      ],
      "execution_count": 0,
      "outputs": [
        {
          "output_type": "stream",
          "text": [
            "[2 4 6]\n",
            "[20 40 20]\n"
          ],
          "name": "stdout"
        }
      ]
    },
    {
      "cell_type": "code",
      "metadata": {
        "id": "fv9XSRFfd2Cw",
        "colab_type": "code",
        "colab": {},
        "outputId": "5895ba01-57b5-43ff-8448-b2434a1e840f"
      },
      "source": [
        "import tensorflow as tf\n",
        "\n",
        "#placeholder 정의(배열의 크기를 None으로 지정)\n",
        "a = tf.placeholder(tf.int32, [None]) \n",
        "b = tf.constant(10) #b를 상수 10이라고 정의\n",
        "x10_op = a*b\n",
        "\n",
        "#세션 시작 \n",
        "sess = tf.Session() \n",
        "# placeholder에 값 넣고 실행하기\n",
        "r1 = sess.run(x10_op, feed_dict = {a:[1, 2, 3, 4, 5]}) #b=10\n",
        "print(r1)\n",
        "r2 = sess.run(x10_op, feed_dict = {a:[10, 20]})\n",
        "print(r2)"
      ],
      "execution_count": 0,
      "outputs": [
        {
          "output_type": "stream",
          "text": [
            "[10 20 30 40 50]\n",
            "[100 200]\n"
          ],
          "name": "stdout"
        }
      ]
    },
    {
      "cell_type": "code",
      "metadata": {
        "id": "F5WUgIgjd2Cy",
        "colab_type": "code",
        "colab": {},
        "outputId": "88b84f92-4c90-42b2-857a-ac794b5c52b8"
      },
      "source": [
        "#SVM으로 BMI 판정\n",
        "#키의 최대값은 200cm, 몸무게의 최대값은 100kg으로 정규화\n",
        "#저체중(thin), 정상(normal), 비만(fat) 레이블을 one-hot-encoding [1, 0, 0], [0, 1, 0], [0, 0, 1]로 변환\n",
        "#소프트 맥스 회귀방법 , 오차 함수는 교차 엔트로피 사용\n",
        "#교차 엔트로피  - 2개의 확률 분포 사이에 정의되는 척도로서 교차 엔트로피 값이 작을 수록 정확한 값을 냄\n",
        "#학습 계수 0.01, 경사 하강법(steepest descent method) 사용\n",
        "\n",
        "import pandas as pd\n",
        "import numpy as np\n",
        "import tensorflow as tf\n",
        "# 키, 몸무게, 레이블이 적힌 CSV 파일 읽어 들이기 \n",
        "csv = pd.read_csv(\"bmi.csv\")\n",
        "\n",
        "# 데이터 정규화 \n",
        "csv[\"height\"]=csv[\"height\"]/200\n",
        "csv[\"weight\"]=csv[\"weight\"]/100\n",
        "\n",
        "# 레이블을 배열로 변환하기 - thin=(1,0,0) / normal=(0,1,0) / fat=(0,0,1)\n",
        "bclass={\"thin\":[1,0,0],\"normal\":[0,1,0],\"fat\":[0,0,1]}\n",
        "csv[\"label_pat\"]=csv[\"label\"].apply(lambda x: np.array(bclass[x]))\n",
        "\n",
        "# 테스트를 위한 데이터 분류 \n",
        "test_csv=csv[15000:20000]\n",
        "tset_pat=test_csv[[\"weight\",\"height\"]]\n",
        "test_ans=list(test_csv[\"label_pat\"])\n",
        "    \n",
        "# 데이터 플로우 그래프 구축하기 \n",
        "# 플레이스홀더 선언하기\n",
        "x=tf.placeholder(tf.float32,[None,2])#키와 몸무게 데이터 넣기\n",
        "y_=tf.placeholder(tf.float32, [None,3])#정답 레이블 넣기\n",
        " \n",
        "# 변수 선언하기 \n",
        "W=tf.Variable(tf.zeros([2,3]));#가중치\n",
        "b=tf.Variable(tf.zeros([3]));#바이어스\n",
        " \n",
        "# 소프트맥스 회귀 정의하기 \n",
        "y=tf.nn.softmax(tf.matmul(x,W)+b)\n",
        "    \n",
        "# 모델 훈련하기 \n",
        "cross_entropy=\n",
        "optimizer=\n",
        "train=\n",
        " \n",
        "# 정답률 구하기\n",
        "predict=\n",
        "accuracy=\n",
        " \n",
        "# 세션 시작하기\n",
        "session \n",
        "? \n",
        " \n",
        "# 학습시키기\n",
        "for step in range(3500):\n",
        "\n",
        "# 최종적인 정답률 구하기\n",
        " \n"
      ],
      "execution_count": 0,
      "outputs": [
        {
          "output_type": "error",
          "ename": "SyntaxError",
          "evalue": "invalid syntax (<ipython-input-16-d81df39ff66d>, line 40)",
          "traceback": [
            "\u001b[1;36m  File \u001b[1;32m\"<ipython-input-16-d81df39ff66d>\"\u001b[1;36m, line \u001b[1;32m40\u001b[0m\n\u001b[1;33m    cross_entropy=\u001b[0m\n\u001b[1;37m                  ^\u001b[0m\n\u001b[1;31mSyntaxError\u001b[0m\u001b[1;31m:\u001b[0m invalid syntax\n"
          ]
        }
      ]
    },
    {
      "cell_type": "markdown",
      "metadata": {
        "id": "TMqAisffd2C0",
        "colab_type": "text"
      },
      "source": [
        "## tensorboard"
      ]
    },
    {
      "cell_type": "code",
      "metadata": {
        "id": "lKzWinZ7d2C1",
        "colab_type": "code",
        "colab": {},
        "outputId": "367aceae-42eb-47c4-ed8b-99a999b7bcc0"
      },
      "source": [
        "#데이터의 흐름을 시각화하는 도구\n",
        "#로그 데이터를 저장할 폴더 준비 \n",
        "#tensorboard --logdir=/log_dir\n",
        "#Localhost:6006   \n",
        "\n",
        "import tensorflow as tf\n",
        "a = tf.constant(20, name=\"a\")# 데이터 플로우 그래프 구축하기  \n",
        "b = tf.constant(30, name=\"b\")\n",
        "mul_op = a * b\n",
        "sess = tf.Session() #세션 생성하기  \n",
        "tw = tf.summary.FileWriter(\"log_dir\", graph=sess.graph)# TensorBoard 사용하기  \n",
        "print(sess.run(mul_op))# 세션 실행하기 "
      ],
      "execution_count": 0,
      "outputs": [
        {
          "output_type": "stream",
          "text": [
            "600\n"
          ],
          "name": "stdout"
        }
      ]
    },
    {
      "cell_type": "code",
      "metadata": {
        "id": "XnJPjceQd2C3",
        "colab_type": "code",
        "colab": {},
        "outputId": "0fb1a0a3-9a10-4d4e-fd5a-dcdfea24bfa4"
      },
      "source": [
        "import tensorflow as tf\n",
        "# 상수와 변수 선언하기  \n",
        "a = tf.constant(100, name=\"a\")\n",
        "b = tf.constant(200, name=\"b\")\n",
        "c = tf.constant(300, name=\"c\")\n",
        "v = tf.Variable(0, name=\"v\")\n",
        "# 곱셈을 수행하는 그래프 정의하기  \n",
        "calc_op = a + b * c \n",
        "assign_op = tf.assign(v, calc_op)\n",
        "# 세션 생성하기  \n",
        "sess = tf.Session()\n",
        "# TensorBoard 사용하기  \n",
        "tw = tf.summary.FileWriter(\"log_dir\", graph=sess.graph)\n",
        "# 세션 실행하기   \n",
        "sess.run(assign_op)\n",
        "print(sess.run(v))\n"
      ],
      "execution_count": 0,
      "outputs": [
        {
          "output_type": "stream",
          "text": [
            "60100\n"
          ],
          "name": "stdout"
        }
      ]
    },
    {
      "cell_type": "markdown",
      "metadata": {
        "id": "Eo633xaKd2C6",
        "colab_type": "text"
      },
      "source": [
        "## 최소 제곱법 공식으로 구한 성적 예측 코딩   "
      ]
    },
    {
      "cell_type": "code",
      "metadata": {
        "id": "H6GVhnx-d2C6",
        "colab_type": "code",
        "colab": {},
        "outputId": "32cbd0b5-03fb-4642-8873-2d9eda38cac8"
      },
      "source": [
        "import numpy as np\n",
        "\n",
        "# x 값과 y 값\n",
        "x=[2,4,6,8]\n",
        "y=[81,93,91,97]\n",
        "\n",
        "# x와 y의 평균값\n",
        "mx=np.mean(x)\n",
        "my=np.mean(y)\n",
        "print(\"x의 평균값:\",mx)\n",
        "print(\"y의 평균값:\",my)\n",
        "\n",
        "# 기울기 공식의 분모\n",
        "divisor=sum([(mx-i)**2 for i in x])\n",
        "\n",
        "# 기울기 공식의 분자\n",
        "def top(x,mx,y,my):\n",
        "    d=0\n",
        "    for i in range(len(x)):\n",
        "        d+=(x[i]-mx)*(y[i]-my)\n",
        "    return d\n",
        "dividend=top(x,mx,y,my) #분자값 게산 저장\n",
        "print(\"분모\",divisor)\n",
        "print(\"분자\",dividend)\n",
        "    \n",
        "# 기울기와 y 절편 구하기\n",
        "a=dividend/divisor\n",
        "b=my-(mx*a)\n",
        "\n",
        "# 출력으로 확인\n",
        "print(\"기울기 a=\",a)\n",
        "print(\"y절편 b=\",b)"
      ],
      "execution_count": 0,
      "outputs": [
        {
          "output_type": "stream",
          "text": [
            "x의 평균값: 5.0\n",
            "y의 평균값: 90.5\n",
            "분모 20.0\n",
            "분자 46.0\n",
            "기울기 a= 2.3\n",
            "y절편 b= 79.0\n"
          ],
          "name": "stdout"
        }
      ]
    },
    {
      "cell_type": "markdown",
      "metadata": {
        "id": "siLRtS8Od2C8",
        "colab_type": "text"
      },
      "source": [
        "## 오차 계산 : 평균 제곱근 오차(root mean square error)"
      ]
    },
    {
      "cell_type": "code",
      "metadata": {
        "id": "23JSck9Jd2C9",
        "colab_type": "code",
        "colab": {},
        "outputId": "420938a0-010a-40d6-bdab-a487a26374e4"
      },
      "source": [
        "import numpy as np\n",
        "\n",
        "# 기울기 a와 y 절편 b\n",
        "ab = [3, 76] #  임의의 기울기와 절편\n",
        "data = [[2,81],[4,93],[6,91],[8,97]]\n",
        "\n",
        "# x, y의 데이터 값\n",
        "x= [ i[0] for i in data]\n",
        "y= [ i[1] for i in data]\n",
        "\n",
        "# y = ax + b에 a와 b 값을 대입하여 결과를 출력하는 함수\n",
        "def predict(x): #임의의 기울기와 절편의 모델로부터 예측값 반환 함수\n",
        "    return ab[0]*x+ab[1]\n",
        "\n",
        "# RMSE 함수\n",
        "def rmse(p, a): # 평균 제곱근 오차 반환 함수\n",
        "    return np.sqrt(((p-a)**2).mean())\n",
        " \n",
        "\n",
        "# RMSE 함수를 각 y 값에 대입하여 최종 값을 구하는 함수\n",
        " \n",
        "\n",
        "# 예측 값이 들어갈 빈 리스트\n",
        "predict_result = []\n",
        "\n",
        "for i in range(len(x)):\n",
        "    predict_result.append(predict(x[i]))\n",
        "print(\"공부한 시간 =%.f, 실제 점수 =%.f,  예측점수=%.f\" % (x[i], y[i], predict_result[i]))\n",
        "\n",
        "\n",
        "\n",
        "# 모든 x 값을 한 번씩 대입하여\n",
        " \n",
        "# 평균 제곱근 오차 반환 함수를 이용해서 최종값 구하기\n",
        "def  rmse_val(predict_result, y) :\n",
        "    return rmse(np.array(predict_result), np.array(y))\n",
        "\n",
        "\n",
        "# 최종 RMSE 출력\n",
        "print(\"rmse  최종값 :\"+ str(rmse_val(predict_result, y)))"
      ],
      "execution_count": 0,
      "outputs": [
        {
          "output_type": "stream",
          "text": [
            "공부한 시간 =8, 실제 점수 =97,  예측점수=100\n",
            "rmse  최종값 :3.3166247903554\n"
          ],
          "name": "stdout"
        }
      ]
    },
    {
      "cell_type": "markdown",
      "metadata": {
        "id": "niXH1BDFd2C_",
        "colab_type": "text"
      },
      "source": [
        "## 경사하강법 : 미분값이 0인 기울기와 y절편 찾기 (학습률 지정) "
      ]
    },
    {
      "cell_type": "code",
      "metadata": {
        "id": "c69FH6s0d2C_",
        "colab_type": "code",
        "colab": {},
        "outputId": "bbfba4cb-0b66-43f1-d771-a00a4ae240dd"
      },
      "source": [
        "import tensorflow as tf\n",
        "\n",
        "data = [[2,81],[4,93],[6,91],[8,97]]\n",
        "\n",
        "# x 값과 y 값\n",
        "x_data= [ i[0] for i in data]\n",
        "y_data= [ i[1] for i in data]\n",
        "\n",
        "#임의의 기울기와 y절편의 값으로 변수로 정의\n",
        "a=tf.Variable(tf.random_uniform([1], 0, 10, dtype=tf.float64, seed=0))   #기울기 범위 0~10\n",
        "b = tf.Variable(tf.random_uniform([1], 0, 100, dtype=tf.float64, seed=0))   #y절편 범위 0~100\n",
        "\n",
        "y = a*x_data+b  #1차방정식의 계산식 정의\n",
        "\n",
        "#오차 계산 (평균 제곱근 오차 공식)\n",
        "rmse = tf.sqrt(tf.reduce_mean(tf.square(y-y_data)))\n",
        "\n",
        "#학습률\n",
        "learning_rate = 0.1\n",
        "\n",
        "# 오차 rmse 값이 최소인 값 찾는 식 정의\n",
        "gradient_descent = tf.train.GradientDescentOptimizer(learning_rate).minimize(rmse)\n",
        "\n",
        "#텐서플로으로 학습\n",
        "with tf.Session() as sess:\n",
        "    sess.run(tf.global_variables_initializer())     # 변수들을 메모리에 생성, 초기화\n",
        "    for step in range(2001):\n",
        "        sess.run(gradient_descent)\n",
        "        if step % 100 == 0:\n",
        "            print(\"Epoch: %.f , RMSE=%.4f,  기울기 a=%.4f, 절편 b= %.4f\" % (step, sess.run(rmse), sess.run(a), sess.run(b)))\n",
        "\n",
        "#Epoch는 입력값에 대해 몇 번 반복 실험했는지를 나타내는 용어"
      ],
      "execution_count": 0,
      "outputs": [
        {
          "output_type": "stream",
          "text": [
            "Epoch: 0 , RMSE=30.2139,  기울기 a=7.5235, 절편 b= 80.5984\n",
            "Epoch: 100 , RMSE=2.8860,  기울기 a=2.2299, 절편 b= 79.4181\n",
            "Epoch: 200 , RMSE=2.8826,  기울기 a=2.2601, 절편 b= 79.2379\n",
            "Epoch: 300 , RMSE=2.8815,  기울기 a=2.2773, 절편 b= 79.1353\n",
            "Epoch: 400 , RMSE=2.8811,  기울기 a=2.2871, 절편 b= 79.0770\n",
            "Epoch: 500 , RMSE=2.8810,  기울기 a=2.2927, 절편 b= 79.0438\n",
            "Epoch: 600 , RMSE=2.8810,  기울기 a=2.2958, 절편 b= 79.0249\n",
            "Epoch: 700 , RMSE=2.8810,  기울기 a=2.2976, 절편 b= 79.0142\n",
            "Epoch: 800 , RMSE=2.8810,  기울기 a=2.2987, 절편 b= 79.0081\n",
            "Epoch: 900 , RMSE=2.8810,  기울기 a=2.2992, 절편 b= 79.0046\n",
            "Epoch: 1000 , RMSE=2.8810,  기울기 a=2.2996, 절편 b= 79.0026\n",
            "Epoch: 1100 , RMSE=2.8810,  기울기 a=2.2998, 절편 b= 79.0015\n",
            "Epoch: 1200 , RMSE=2.8810,  기울기 a=2.2999, 절편 b= 79.0008\n",
            "Epoch: 1300 , RMSE=2.8810,  기울기 a=2.2999, 절편 b= 79.0005\n",
            "Epoch: 1400 , RMSE=2.8810,  기울기 a=2.3000, 절편 b= 79.0003\n",
            "Epoch: 1500 , RMSE=2.8810,  기울기 a=2.3000, 절편 b= 79.0002\n",
            "Epoch: 1600 , RMSE=2.8810,  기울기 a=2.3000, 절편 b= 79.0001\n",
            "Epoch: 1700 , RMSE=2.8810,  기울기 a=2.3000, 절편 b= 79.0001\n",
            "Epoch: 1800 , RMSE=2.8810,  기울기 a=2.3000, 절편 b= 79.0000\n",
            "Epoch: 1900 , RMSE=2.8810,  기울기 a=2.3000, 절편 b= 79.0000\n",
            "Epoch: 2000 , RMSE=2.8810,  기울기 a=2.3000, 절편 b= 79.0000\n"
          ],
          "name": "stdout"
        }
      ]
    },
    {
      "cell_type": "code",
      "metadata": {
        "id": "a-GPg7RKd2DB",
        "colab_type": "code",
        "colab": {},
        "outputId": "73b846bb-023e-4ddf-c694-4e4c53f8d047"
      },
      "source": [
        "#경사하강법 : 다중회귀분석 실습\n",
        "import tensorflow as tf \n",
        "\n",
        "data = [[2,0, 81],[4,4, 93],[6,2,91],[8,3,97]]\n",
        "# x 값과 y 값\n",
        "x1= [ i[0] for i in data]\n",
        "x2= [ i[1] for i in data]\n",
        "y_data= [ i[2] for i in data]\n",
        "\n",
        "\n",
        "#임의의 기울기와 y절편의 값으로 변수로 정의\n",
        "a1=tf.Variable(tf.random_uniform([1], 0, 10, dtype=tf.float64, seed=0))   #기울기 범위 0~10\n",
        "a2=tf.Variable(tf.random_uniform([1], 0, 10, dtype=tf.float64, seed=0))   #기울기 범위 0~10\n",
        "b = tf.Variable(tf.random_uniform([1], 0, 100, dtype=tf.float64, seed=0))   #y절편 범위 0~100\n",
        "\n",
        "y = a1*x1+a2*x2+b  # 입력값이 2개인 1차방정식의 계산식 정의\n",
        "\n",
        "#오차 계산 (평균 제곱근 오차 공식)\n",
        "rmse = tf.sqrt(tf.reduce_mean(tf.square(y-y_data)))\n",
        "\n",
        "#학습률\n",
        "learning_rate = 0.1\n",
        "\n",
        "# 오차 rmse 값이 최소인 값 찾는 식 정의\n",
        "gradient_descent = tf.train.GradientDescentOptimizer(learning_rate).minimize(rmse)\n",
        "\n",
        "#텐서플로 이용하여 학습\n",
        "with tf.Session() as sess:\n",
        "    sess.run(tf.global_variables_initializer())     # 변수들을 메모리에 생성, 초기화\n",
        "    for step in range(2001):\n",
        "        sess.run(gradient_descent)\n",
        "        if step % 100 == 0:\n",
        "            print(\"Epoch: %.f , RMSE=%.4f,  기울기 a1=%.4f, 기울기 a2=%.4f, 절편 b= %.4f\" % (step, sess.run(rmse), sess.run(a1), sess.run(a2),sess.run(b)))\n",
        "\n"
      ],
      "execution_count": 0,
      "outputs": [
        {
          "output_type": "stream",
          "text": [
            "Epoch: 0 , RMSE=49.1842,  기울기 a1=7.5270, 기울기 a2=7.8160, 절편 b= 80.5980\n",
            "Epoch: 100 , RMSE=1.8368,  기울기 a1=1.1306, 기울기 a2=2.1316, 절편 b= 78.5119\n",
            "Epoch: 200 , RMSE=1.8370,  기울기 a1=1.1879, 기울기 a2=2.1487, 절편 b= 78.1057\n",
            "Epoch: 300 , RMSE=1.8370,  기울기 a1=1.2122, 기울기 a2=2.1571, 절편 b= 77.9352\n",
            "Epoch: 400 , RMSE=1.8370,  기울기 a1=1.2226, 기울기 a2=2.1607, 절편 b= 77.8636\n",
            "Epoch: 500 , RMSE=1.8370,  기울기 a1=1.2269, 기울기 a2=2.1622, 절편 b= 77.8335\n",
            "Epoch: 600 , RMSE=1.8370,  기울기 a1=1.2288, 기울기 a2=2.1628, 절편 b= 77.8208\n",
            "Epoch: 700 , RMSE=1.8370,  기울기 a1=1.2295, 기울기 a2=2.1631, 절편 b= 77.8155\n",
            "Epoch: 800 , RMSE=1.8370,  기울기 a1=1.2299, 기울기 a2=2.1632, 절편 b= 77.8133\n",
            "Epoch: 900 , RMSE=1.8370,  기울기 a1=1.2300, 기울기 a2=2.1632, 절편 b= 77.8124\n",
            "Epoch: 1000 , RMSE=1.8370,  기울기 a1=1.2301, 기울기 a2=2.1633, 절편 b= 77.8120\n",
            "Epoch: 1100 , RMSE=1.8370,  기울기 a1=1.2301, 기울기 a2=2.1633, 절편 b= 77.8118\n",
            "Epoch: 1200 , RMSE=1.8370,  기울기 a1=1.2301, 기울기 a2=2.1633, 절편 b= 77.8117\n",
            "Epoch: 1300 , RMSE=1.8370,  기울기 a1=1.2301, 기울기 a2=2.1633, 절편 b= 77.8117\n",
            "Epoch: 1400 , RMSE=1.8370,  기울기 a1=1.2301, 기울기 a2=2.1633, 절편 b= 77.8117\n",
            "Epoch: 1500 , RMSE=1.8370,  기울기 a1=1.2301, 기울기 a2=2.1633, 절편 b= 77.8117\n",
            "Epoch: 1600 , RMSE=1.8370,  기울기 a1=1.2301, 기울기 a2=2.1633, 절편 b= 77.8117\n",
            "Epoch: 1700 , RMSE=1.8370,  기울기 a1=1.2301, 기울기 a2=2.1633, 절편 b= 77.8117\n",
            "Epoch: 1800 , RMSE=1.8370,  기울기 a1=1.2301, 기울기 a2=2.1633, 절편 b= 77.8117\n",
            "Epoch: 1900 , RMSE=1.8370,  기울기 a1=1.2301, 기울기 a2=2.1633, 절편 b= 77.8117\n",
            "Epoch: 2000 , RMSE=1.8370,  기울기 a1=1.2301, 기울기 a2=2.1633, 절편 b= 77.8117\n"
          ],
          "name": "stdout"
        }
      ]
    },
    {
      "cell_type": "markdown",
      "metadata": {
        "id": "CvFK-w0Sd2DE",
        "colab_type": "text"
      },
      "source": [
        "## 로지스틱 회귀 구현 코드   "
      ]
    },
    {
      "cell_type": "code",
      "metadata": {
        "id": "HDDFOPNBd2DF",
        "colab_type": "code",
        "colab": {},
        "outputId": "d77dc2d9-3c64-4782-968d-357c4e6ce7f6"
      },
      "source": [
        "import tensorflow as tf\n",
        "import numpy as np\n",
        "\n",
        "# x, y의 데이터 값\n",
        "data =[[2, 0], [4, 0], [6, 0], [8, 1], [10, 1], [12, 1], [14, 1]]\n",
        "\n",
        "x_data = [i[0] for i in data]\n",
        "y_data = [i[1] for i in data]\n",
        "\n",
        "\n",
        "#임의의 a, b 값을 변수로 정의\n",
        "a = tf.Variable(tf.random_normal([1], dtype=tf.float64, seed=0))\n",
        "b = tf.Variable(tf.random_normal([1], dtype=tf.float64, seed=0))\n",
        "\n",
        "# y 시그모이드 함수의 방정식을 세운다.\n",
        " #시그모이드 함수 방정식 정의\n",
        "y = 1/ (1+ np.e**(a*x_data+b))\n",
        "\n",
        "#오차 loss 구하는 함수\n",
        "loss = -tf.reduce_mean(np.array(y_data)*tf.log(y)+(1-np.array(y_data))*tf.log(1-y))\n",
        "\n",
        "# 학습률 값\n",
        "learning_rate = 0.5\n",
        "\n",
        "# loss를 최소로 하는 값 찾기\n",
        "# 오차 rmse 값이 최소인 값 찾는 식 정의\n",
        "gradient_descent = tf.train.GradientDescentOptimizer(learning_rate).minimize(loss)\n",
        "\n",
        "#텐서플로 이용하여 학습\n",
        "with tf.Session() as sess:\n",
        "    sess.run(tf.global_variables_initializer())     # 변수들을 메모리에 생성, 초기화\n",
        "    for step in range(6001):\n",
        "        sess.run(gradient_descent)\n",
        "        if step % 1000 == 0:\n",
        "            print(\"Epoch: %.f , loss=%.4f,  기울기 a=%.4f, 절편 b= %.4f\" % (step, sess.run(loss), sess.run(a), sess.run(b)))"
      ],
      "execution_count": 0,
      "outputs": [
        {
          "output_type": "stream",
          "text": [
            "Epoch: 0 , loss=1.2676,  기울기 a=0.1849, 절편 b= -0.4334\n",
            "Epoch: 1000 , loss=0.0557,  기울기 a=-1.6009, 절편 b= 11.0208\n",
            "Epoch: 2000 , loss=0.0361,  기울기 a=-2.0366, 절편 b= 14.0909\n",
            "Epoch: 3000 , loss=0.0269,  기울기 a=-2.3380, 절편 b= 16.2087\n",
            "Epoch: 4000 , loss=0.0214,  기울기 a=-2.5708, 절편 b= 17.8417\n",
            "Epoch: 5000 , loss=0.0178,  기울기 a=-2.7607, 절편 b= 19.1734\n",
            "Epoch: 6000 , loss=0.0152,  기울기 a=-2.9211, 절편 b= 20.2982\n"
          ],
          "name": "stdout"
        }
      ]
    },
    {
      "cell_type": "markdown",
      "metadata": {
        "id": "wM_tyH4Bd2DH",
        "colab_type": "text"
      },
      "source": [
        "## 로지스틱 회귀분석 : 다중 입력값 , tf.sigmoid(), "
      ]
    },
    {
      "cell_type": "code",
      "metadata": {
        "id": "-gO5ImpMd2DI",
        "colab_type": "code",
        "colab": {},
        "outputId": "f4371b4b-dc53-4395-f306-d369170c8d2e"
      },
      "source": [
        "import tensorflow as tf \n",
        "import numpy as np\n",
        "\n",
        "x_data = np.array( [[2,3],[4,3],[6,4],[8,6],[10, 7], [12, 8], [14, 9]] )\n",
        "y_data= np.array([0, 0, 0, 1, 1, 1,1] ).reshape(7, 1)\n",
        "\n",
        "#입력값을 placeholder에 저장\n",
        "X= tf.placeholder(tf.float64, shape=[None, 2])\n",
        "Y = tf.placeholder(tf.float64, shape=[None, 1])\n",
        " \n",
        "#실행할 때마다 동일한 출력(결과)를 얻기 위한 값 설정\n",
        "seed = 0\n",
        "np.random.seed(seed)\n",
        "tf.set_random_seed(seed)\n",
        "\n",
        "#임의의 a, b 값을 변수로 정의\n",
        "a = tf.Variable(tf.random_uniform([2, 1], dtype=tf.float64))  #[2, 1]은 들어오는  값은 2개 나가는 값은 1개\n",
        "b = tf.Variable(tf.random_uniform([1], dtype=tf.float64))\n",
        "\n",
        "#시그모이드 함수 방정식 정의\n",
        "y = tf.sigmoid(tf.matmul(X, a) + b)\n",
        "\n",
        "#오차 loss 구하는 함수\n",
        "loss = -tf.reduce_mean(Y*tf.log(y)+(1-Y)*tf.log(1-y))\n",
        "\n",
        "#학습률\n",
        "learning_rate = 0.1\n",
        "\n",
        "# 오차 loss 값이 최소인 값 찾는 식 정의\n",
        "gradient_descent = tf.train.GradientDescentOptimizer(learning_rate).minimize(loss)\n",
        "\n",
        "predicted = tf.cast(y >0.5, dtype=tf.float64)\n",
        "accuracy = tf.reduce_mean(tf.cast(tf.equal(predicted, Y), dtype=tf.float64))\n",
        "\n",
        "#tf.cast() 함수는 형변환(캐스팅) 수행 => 부동소수점형(실수)를 정수형으로 변환할때는 소수점이하 버림\n",
        "                                                    #bool (논리) 자료형을 정수형으로 변환할때는 True는 1, False는 0으로\n",
        "\n",
        "#텐서플로 이용하여 학습\n",
        "with tf.Session() as sess:\n",
        "    sess.run(tf.global_variables_initializer())     # 변수들을 메모리에 생성, 초기화\n",
        "    for step in range(5001):\n",
        "        a_, b_, loss_, _ = sess.run([a, b, loss, gradient_descent], feed_dict={X:x_data, Y:y_data})\n",
        "        if step % 500 == 0:\n",
        "            print(\"Epoch: %.f , loss=%.4f,  기울기 a1=%.4f, 기울기 a2=%.4f, 절편 b= %.4f\" % (step,  loss_,  a_[0], a_[1],  b_))"
      ],
      "execution_count": 0,
      "outputs": [
        {
          "output_type": "stream",
          "text": [
            "Epoch: 0 , loss=1.8561,  기울기 a1=-0.0129, 기울기 a2=0.7219, 절편 b= 0.7724\n",
            "Epoch: 500 , loss=0.2118,  기울기 a1=0.8054, 기울기 a2=-0.3536, 절편 b= -3.4439\n",
            "Epoch: 1000 , loss=0.1396,  기울기 a1=0.6819, 기울기 a2=0.1609, 절편 b= -5.2507\n",
            "Epoch: 1500 , loss=0.1036,  기울기 a1=0.5217, 기울기 a2=0.6248, 절편 b= -6.4943\n",
            "Epoch: 2000 , loss=0.0820,  기울기 a1=0.3823, 기울기 a2=1.0050, 절편 b= -7.4480\n",
            "Epoch: 2500 , loss=0.0677,  기울기 a1=0.2673, 기울기 a2=1.3170, 절편 b= -8.2226\n",
            "Epoch: 3000 , loss=0.0577,  기울기 a1=0.1727, 기울기 a2=1.5771, 절편 b= -8.8754\n",
            "Epoch: 3500 , loss=0.0502,  기울기 a1=0.0939, 기울기 a2=1.7980, 절편 b= -9.4395\n",
            "Epoch: 4000 , loss=0.0444,  기울기 a1=0.0273, 기울기 a2=1.9889, 절편 b= -9.9364\n",
            "Epoch: 4500 , loss=0.0398,  기울기 a1=-0.0300, 기울기 a2=2.1564, 절편 b= -10.3804\n",
            "Epoch: 5000 , loss=0.0361,  기울기 a1=-0.0798, 기울기 a2=2.3052, 절편 b= -10.7817\n"
          ],
          "name": "stdout"
        }
      ]
    },
    {
      "cell_type": "markdown",
      "metadata": {
        "id": "t58L1VE5d2DK",
        "colab_type": "text"
      },
      "source": [
        "## 은닉층으로 좌표 평면을 왜곡시켜서 시그모이드 함수 사용해서 XOR 문제 해결"
      ]
    },
    {
      "cell_type": "code",
      "metadata": {
        "id": "GpHZmDf3d2DK",
        "colab_type": "code",
        "colab": {}
      },
      "source": [
        "import tensorflow as tf \n",
        "import numpy as np\n",
        "\n",
        "# 가중치와 바이어스\n",
        " \n",
        "\n",
        "# 퍼셉트론\n",
        " \n",
        "\n",
        "# NAND 게이트\n",
        "\n",
        "\n",
        "# OR 게이트\n",
        " \n",
        "\n",
        "# AND 게이트\n",
        " \n",
        "\n",
        "# XOR 게이트\n",
        " \n",
        "\n",
        "# x1, x2 값을 번갈아 대입해 가며 최종값 출력\n",
        " \n"
      ],
      "execution_count": 0,
      "outputs": []
    }
  ]
}
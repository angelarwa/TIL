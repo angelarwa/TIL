{
 "cells": [
  {
   "cell_type": "markdown",
   "metadata": {
    "ExecuteTime": {
     "end_time": "2020-01-15T00:20:34.395070Z",
     "start_time": "2020-01-15T00:20:34.390083Z"
    }
   },
   "source": [
    "# 외부특강(1월 15~17일) "
   ]
  },
  {
   "cell_type": "markdown",
   "metadata": {},
   "source": [
    "## 도커 컨테이너 기초\n",
    "Container  vs Machine Virtualization\n"
   ]
  },
  {
   "cell_type": "markdown",
   "metadata": {},
   "source": [
    "## 카카오 i 오픈빌더 (챗봇 개발)\n",
    "https://i.kakao.com/docs/key-concepts-block#%EB%B8%94%EB%A1%9D%EC%9D%98-%EA%B5%AC%EC%84%B1\n",
    "#엔티티(Entity): 봇이 이해할 수 있는 용어를 체계적으로 정리한 데이터 사전\n",
    "#시나리오(Scenario) : 봇 안에서 사용자가 경험할 수 있는 서비스 단위\n",
    "#블록(Block) : 사용자 의도의 기본 단위\n",
    "#챗봇이 사용자 발화를 인식할 수 있도록 만드는 원리의 핵심은 패턴(Pattern) \n",
    "#파라미터(Parameter) : 봇이 사용자의 의도를 정확히 이해하기 위해 필요로 하는 데이터\n",
    "#응답 : 사용자 발화가 특정 블록에 매칭될 경우 사용자에게 출력되는 답변\n",
    "#컨텍스트(Context) : 봇 작업자가 블록 안에서 직접 해당 컨텍스트를 정의하고, 블록간 연결 및 관리를 수행\n"
   ]
  },
  {
   "cell_type": "markdown",
   "metadata": {},
   "source": [
    "### Rest API\n",
    "#post-get-put-delete\n",
    "#CreateReadUpdateDelete\n",
    "#https://www.getpostman.com/\n"
   ]
  },
  {
   "cell_type": "code",
   "execution_count": 2,
   "metadata": {
    "ExecuteTime": {
     "end_time": "2020-01-15T06:09:05.082300Z",
     "start_time": "2020-01-15T06:09:04.449361Z"
    }
   },
   "outputs": [],
   "source": [
    "# https://velog.io/@wody/Flask-Tutorial\n",
    "# visual studio code 다운로드\n"
   ]
  }
 ],
 "metadata": {
  "kernelspec": {
   "display_name": "Python 3",
   "language": "python",
   "name": "python3"
  },
  "language_info": {
   "codemirror_mode": {
    "name": "ipython",
    "version": 3
   },
   "file_extension": ".py",
   "mimetype": "text/x-python",
   "name": "python",
   "nbconvert_exporter": "python",
   "pygments_lexer": "ipython3",
   "version": "3.7.4"
  }
 },
 "nbformat": 4,
 "nbformat_minor": 2
}
